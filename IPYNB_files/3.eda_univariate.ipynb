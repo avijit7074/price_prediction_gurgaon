{
  "nbformat": 4,
  "nbformat_minor": 0,
  "metadata": {
    "colab": {
      "provenance": [],
      "authorship_tag": "ABX9TyPvzZdxxs5BS1OVdfRF6J23",
      "include_colab_link": true
    },
    "kernelspec": {
      "name": "python3",
      "display_name": "Python 3"
    },
    "language_info": {
      "name": "python"
    }
  },
  "cells": [
    {
      "cell_type": "markdown",
      "metadata": {
        "id": "view-in-github",
        "colab_type": "text"
      },
      "source": [
        "<a href=\"https://colab.research.google.com/github/avijit7074/price_prediction_gurgaon/blob/master/eda_univariate.ipynb\" target=\"_parent\"><img src=\"https://colab.research.google.com/assets/colab-badge.svg\" alt=\"Open In Colab\"/></a>"
      ]
    },
    {
      "cell_type": "code",
      "execution_count": 1,
      "metadata": {
        "id": "LpZoFoJK25Wd"
      },
      "outputs": [],
      "source": [
        "import pandas as pd\n",
        "import numpy as np\n",
        "import matplotlib.pyplot as plt\n",
        "import seaborn as sns\n",
        "pd.set_option('display.max_columns', None)"
      ]
    },
    {
      "cell_type": "code",
      "source": [
        "df=pd.read_csv(\"/content/gurgaon_flat_house_joined1_cleaned_v2.csv\")"
      ],
      "metadata": {
        "id": "Fu0Mo1RQ3KdG"
      },
      "execution_count": 2,
      "outputs": []
    },
    {
      "cell_type": "code",
      "source": [
        "df.sample(5)"
      ],
      "metadata": {
        "colab": {
          "base_uri": "https://localhost:8080/",
          "height": 521
        },
        "id": "fiEchGQI3KfX",
        "outputId": "f155ecf8-9d79-4733-cc24-16ba894841bb"
      },
      "execution_count": 3,
      "outputs": [
        {
          "output_type": "execute_result",
          "data": {
            "text/plain": [
              "     property_type                        society     sector  price_in_cr  \\\n",
              "1028          flat             ambience creacions  sector 22         4.30   \n",
              "2148          flat                   apna enclave   sector 3         0.58   \n",
              "745           flat  denso haryana housing society   sector 1         0.90   \n",
              "1119          flat                   tulip violet  sector 69         1.40   \n",
              "2033          flat              unitech sunbreeze  sector 69         0.75   \n",
              "\n",
              "      price_per_sq.ft  total_area  \\\n",
              "1028          13915.0      3090.0   \n",
              "2148           6105.0       950.0   \n",
              "745            4308.0      2089.0   \n",
              "1119           8861.0      1580.0   \n",
              "2033           6849.0      1095.0   \n",
              "\n",
              "                                           areaWithType  bedrooms  bathrooms  \\\n",
              "1028  Super Built up area 3090(287.07 sq.m.)Built Up...         3          4   \n",
              "2148  Super Built up area 950(88.26 sq.m.)Built Up a...         2          2   \n",
              "745                    Carpet area: 2089 (194.07 sq.m.)         3          3   \n",
              "1119              Super Built up area 1578(146.6 sq.m.)         3          3   \n",
              "2033             Super Built up area 1095(101.73 sq.m.)         2          2   \n",
              "\n",
              "     balconies  floorNum      facing       agePossession  super_built_up_area  \\\n",
              "1028        3+       6.0  South-West      Relatively New               3090.0   \n",
              "2148         2       2.0  North-East        Old Property                950.0   \n",
              "745         3+       5.0        East      Moderately Old                  NaN   \n",
              "1119         2       2.0  North-East      Relatively New               1578.0   \n",
              "2033         2       4.0         NaN  Under Construction               1095.0   \n",
              "\n",
              "      built_up_area  carpet_area  study_room  servant_room  store_room  \\\n",
              "1028         2600.0       2100.0           0             1           0   \n",
              "2148          900.0        744.0           0             0           0   \n",
              "745             NaN       2089.0           0             1           0   \n",
              "1119            NaN          NaN           0             0           0   \n",
              "2033            NaN          NaN           0             0           0   \n",
              "\n",
              "      pooja_room  others  furnishing_type  luxury_score  \n",
              "1028           0       1                2           120  \n",
              "2148           0       0                0            66  \n",
              "745            0       0                0             7  \n",
              "1119           1       0                0           102  \n",
              "2033           0       0                0             0  "
            ],
            "text/html": [
              "\n",
              "  <div id=\"df-c9bdb820-62cd-45f7-a4b2-8b84670a8439\" class=\"colab-df-container\">\n",
              "    <div>\n",
              "<style scoped>\n",
              "    .dataframe tbody tr th:only-of-type {\n",
              "        vertical-align: middle;\n",
              "    }\n",
              "\n",
              "    .dataframe tbody tr th {\n",
              "        vertical-align: top;\n",
              "    }\n",
              "\n",
              "    .dataframe thead th {\n",
              "        text-align: right;\n",
              "    }\n",
              "</style>\n",
              "<table border=\"1\" class=\"dataframe\">\n",
              "  <thead>\n",
              "    <tr style=\"text-align: right;\">\n",
              "      <th></th>\n",
              "      <th>property_type</th>\n",
              "      <th>society</th>\n",
              "      <th>sector</th>\n",
              "      <th>price_in_cr</th>\n",
              "      <th>price_per_sq.ft</th>\n",
              "      <th>total_area</th>\n",
              "      <th>areaWithType</th>\n",
              "      <th>bedrooms</th>\n",
              "      <th>bathrooms</th>\n",
              "      <th>balconies</th>\n",
              "      <th>floorNum</th>\n",
              "      <th>facing</th>\n",
              "      <th>agePossession</th>\n",
              "      <th>super_built_up_area</th>\n",
              "      <th>built_up_area</th>\n",
              "      <th>carpet_area</th>\n",
              "      <th>study_room</th>\n",
              "      <th>servant_room</th>\n",
              "      <th>store_room</th>\n",
              "      <th>pooja_room</th>\n",
              "      <th>others</th>\n",
              "      <th>furnishing_type</th>\n",
              "      <th>luxury_score</th>\n",
              "    </tr>\n",
              "  </thead>\n",
              "  <tbody>\n",
              "    <tr>\n",
              "      <th>1028</th>\n",
              "      <td>flat</td>\n",
              "      <td>ambience creacions</td>\n",
              "      <td>sector 22</td>\n",
              "      <td>4.30</td>\n",
              "      <td>13915.0</td>\n",
              "      <td>3090.0</td>\n",
              "      <td>Super Built up area 3090(287.07 sq.m.)Built Up...</td>\n",
              "      <td>3</td>\n",
              "      <td>4</td>\n",
              "      <td>3+</td>\n",
              "      <td>6.0</td>\n",
              "      <td>South-West</td>\n",
              "      <td>Relatively New</td>\n",
              "      <td>3090.0</td>\n",
              "      <td>2600.0</td>\n",
              "      <td>2100.0</td>\n",
              "      <td>0</td>\n",
              "      <td>1</td>\n",
              "      <td>0</td>\n",
              "      <td>0</td>\n",
              "      <td>1</td>\n",
              "      <td>2</td>\n",
              "      <td>120</td>\n",
              "    </tr>\n",
              "    <tr>\n",
              "      <th>2148</th>\n",
              "      <td>flat</td>\n",
              "      <td>apna enclave</td>\n",
              "      <td>sector 3</td>\n",
              "      <td>0.58</td>\n",
              "      <td>6105.0</td>\n",
              "      <td>950.0</td>\n",
              "      <td>Super Built up area 950(88.26 sq.m.)Built Up a...</td>\n",
              "      <td>2</td>\n",
              "      <td>2</td>\n",
              "      <td>2</td>\n",
              "      <td>2.0</td>\n",
              "      <td>North-East</td>\n",
              "      <td>Old Property</td>\n",
              "      <td>950.0</td>\n",
              "      <td>900.0</td>\n",
              "      <td>744.0</td>\n",
              "      <td>0</td>\n",
              "      <td>0</td>\n",
              "      <td>0</td>\n",
              "      <td>0</td>\n",
              "      <td>0</td>\n",
              "      <td>0</td>\n",
              "      <td>66</td>\n",
              "    </tr>\n",
              "    <tr>\n",
              "      <th>745</th>\n",
              "      <td>flat</td>\n",
              "      <td>denso haryana housing society</td>\n",
              "      <td>sector 1</td>\n",
              "      <td>0.90</td>\n",
              "      <td>4308.0</td>\n",
              "      <td>2089.0</td>\n",
              "      <td>Carpet area: 2089 (194.07 sq.m.)</td>\n",
              "      <td>3</td>\n",
              "      <td>3</td>\n",
              "      <td>3+</td>\n",
              "      <td>5.0</td>\n",
              "      <td>East</td>\n",
              "      <td>Moderately Old</td>\n",
              "      <td>NaN</td>\n",
              "      <td>NaN</td>\n",
              "      <td>2089.0</td>\n",
              "      <td>0</td>\n",
              "      <td>1</td>\n",
              "      <td>0</td>\n",
              "      <td>0</td>\n",
              "      <td>0</td>\n",
              "      <td>0</td>\n",
              "      <td>7</td>\n",
              "    </tr>\n",
              "    <tr>\n",
              "      <th>1119</th>\n",
              "      <td>flat</td>\n",
              "      <td>tulip violet</td>\n",
              "      <td>sector 69</td>\n",
              "      <td>1.40</td>\n",
              "      <td>8861.0</td>\n",
              "      <td>1580.0</td>\n",
              "      <td>Super Built up area 1578(146.6 sq.m.)</td>\n",
              "      <td>3</td>\n",
              "      <td>3</td>\n",
              "      <td>2</td>\n",
              "      <td>2.0</td>\n",
              "      <td>North-East</td>\n",
              "      <td>Relatively New</td>\n",
              "      <td>1578.0</td>\n",
              "      <td>NaN</td>\n",
              "      <td>NaN</td>\n",
              "      <td>0</td>\n",
              "      <td>0</td>\n",
              "      <td>0</td>\n",
              "      <td>1</td>\n",
              "      <td>0</td>\n",
              "      <td>0</td>\n",
              "      <td>102</td>\n",
              "    </tr>\n",
              "    <tr>\n",
              "      <th>2033</th>\n",
              "      <td>flat</td>\n",
              "      <td>unitech sunbreeze</td>\n",
              "      <td>sector 69</td>\n",
              "      <td>0.75</td>\n",
              "      <td>6849.0</td>\n",
              "      <td>1095.0</td>\n",
              "      <td>Super Built up area 1095(101.73 sq.m.)</td>\n",
              "      <td>2</td>\n",
              "      <td>2</td>\n",
              "      <td>2</td>\n",
              "      <td>4.0</td>\n",
              "      <td>NaN</td>\n",
              "      <td>Under Construction</td>\n",
              "      <td>1095.0</td>\n",
              "      <td>NaN</td>\n",
              "      <td>NaN</td>\n",
              "      <td>0</td>\n",
              "      <td>0</td>\n",
              "      <td>0</td>\n",
              "      <td>0</td>\n",
              "      <td>0</td>\n",
              "      <td>0</td>\n",
              "      <td>0</td>\n",
              "    </tr>\n",
              "  </tbody>\n",
              "</table>\n",
              "</div>\n",
              "    <div class=\"colab-df-buttons\">\n",
              "\n",
              "  <div class=\"colab-df-container\">\n",
              "    <button class=\"colab-df-convert\" onclick=\"convertToInteractive('df-c9bdb820-62cd-45f7-a4b2-8b84670a8439')\"\n",
              "            title=\"Convert this dataframe to an interactive table.\"\n",
              "            style=\"display:none;\">\n",
              "\n",
              "  <svg xmlns=\"http://www.w3.org/2000/svg\" height=\"24px\" viewBox=\"0 -960 960 960\">\n",
              "    <path d=\"M120-120v-720h720v720H120Zm60-500h600v-160H180v160Zm220 220h160v-160H400v160Zm0 220h160v-160H400v160ZM180-400h160v-160H180v160Zm440 0h160v-160H620v160ZM180-180h160v-160H180v160Zm440 0h160v-160H620v160Z\"/>\n",
              "  </svg>\n",
              "    </button>\n",
              "\n",
              "  <style>\n",
              "    .colab-df-container {\n",
              "      display:flex;\n",
              "      gap: 12px;\n",
              "    }\n",
              "\n",
              "    .colab-df-convert {\n",
              "      background-color: #E8F0FE;\n",
              "      border: none;\n",
              "      border-radius: 50%;\n",
              "      cursor: pointer;\n",
              "      display: none;\n",
              "      fill: #1967D2;\n",
              "      height: 32px;\n",
              "      padding: 0 0 0 0;\n",
              "      width: 32px;\n",
              "    }\n",
              "\n",
              "    .colab-df-convert:hover {\n",
              "      background-color: #E2EBFA;\n",
              "      box-shadow: 0px 1px 2px rgba(60, 64, 67, 0.3), 0px 1px 3px 1px rgba(60, 64, 67, 0.15);\n",
              "      fill: #174EA6;\n",
              "    }\n",
              "\n",
              "    .colab-df-buttons div {\n",
              "      margin-bottom: 4px;\n",
              "    }\n",
              "\n",
              "    [theme=dark] .colab-df-convert {\n",
              "      background-color: #3B4455;\n",
              "      fill: #D2E3FC;\n",
              "    }\n",
              "\n",
              "    [theme=dark] .colab-df-convert:hover {\n",
              "      background-color: #434B5C;\n",
              "      box-shadow: 0px 1px 3px 1px rgba(0, 0, 0, 0.15);\n",
              "      filter: drop-shadow(0px 1px 2px rgba(0, 0, 0, 0.3));\n",
              "      fill: #FFFFFF;\n",
              "    }\n",
              "  </style>\n",
              "\n",
              "    <script>\n",
              "      const buttonEl =\n",
              "        document.querySelector('#df-c9bdb820-62cd-45f7-a4b2-8b84670a8439 button.colab-df-convert');\n",
              "      buttonEl.style.display =\n",
              "        google.colab.kernel.accessAllowed ? 'block' : 'none';\n",
              "\n",
              "      async function convertToInteractive(key) {\n",
              "        const element = document.querySelector('#df-c9bdb820-62cd-45f7-a4b2-8b84670a8439');\n",
              "        const dataTable =\n",
              "          await google.colab.kernel.invokeFunction('convertToInteractive',\n",
              "                                                    [key], {});\n",
              "        if (!dataTable) return;\n",
              "\n",
              "        const docLinkHtml = 'Like what you see? Visit the ' +\n",
              "          '<a target=\"_blank\" href=https://colab.research.google.com/notebooks/data_table.ipynb>data table notebook</a>'\n",
              "          + ' to learn more about interactive tables.';\n",
              "        element.innerHTML = '';\n",
              "        dataTable['output_type'] = 'display_data';\n",
              "        await google.colab.output.renderOutput(dataTable, element);\n",
              "        const docLink = document.createElement('div');\n",
              "        docLink.innerHTML = docLinkHtml;\n",
              "        element.appendChild(docLink);\n",
              "      }\n",
              "    </script>\n",
              "  </div>\n",
              "\n",
              "\n",
              "<div id=\"df-c34f2e08-c449-4236-92ae-0b4d49841b7b\">\n",
              "  <button class=\"colab-df-quickchart\" onclick=\"quickchart('df-c34f2e08-c449-4236-92ae-0b4d49841b7b')\"\n",
              "            title=\"Suggest charts.\"\n",
              "            style=\"display:none;\">\n",
              "\n",
              "<svg xmlns=\"http://www.w3.org/2000/svg\" height=\"24px\"viewBox=\"0 0 24 24\"\n",
              "     width=\"24px\">\n",
              "    <g>\n",
              "        <path d=\"M19 3H5c-1.1 0-2 .9-2 2v14c0 1.1.9 2 2 2h14c1.1 0 2-.9 2-2V5c0-1.1-.9-2-2-2zM9 17H7v-7h2v7zm4 0h-2V7h2v10zm4 0h-2v-4h2v4z\"/>\n",
              "    </g>\n",
              "</svg>\n",
              "  </button>\n",
              "\n",
              "<style>\n",
              "  .colab-df-quickchart {\n",
              "      --bg-color: #E8F0FE;\n",
              "      --fill-color: #1967D2;\n",
              "      --hover-bg-color: #E2EBFA;\n",
              "      --hover-fill-color: #174EA6;\n",
              "      --disabled-fill-color: #AAA;\n",
              "      --disabled-bg-color: #DDD;\n",
              "  }\n",
              "\n",
              "  [theme=dark] .colab-df-quickchart {\n",
              "      --bg-color: #3B4455;\n",
              "      --fill-color: #D2E3FC;\n",
              "      --hover-bg-color: #434B5C;\n",
              "      --hover-fill-color: #FFFFFF;\n",
              "      --disabled-bg-color: #3B4455;\n",
              "      --disabled-fill-color: #666;\n",
              "  }\n",
              "\n",
              "  .colab-df-quickchart {\n",
              "    background-color: var(--bg-color);\n",
              "    border: none;\n",
              "    border-radius: 50%;\n",
              "    cursor: pointer;\n",
              "    display: none;\n",
              "    fill: var(--fill-color);\n",
              "    height: 32px;\n",
              "    padding: 0;\n",
              "    width: 32px;\n",
              "  }\n",
              "\n",
              "  .colab-df-quickchart:hover {\n",
              "    background-color: var(--hover-bg-color);\n",
              "    box-shadow: 0 1px 2px rgba(60, 64, 67, 0.3), 0 1px 3px 1px rgba(60, 64, 67, 0.15);\n",
              "    fill: var(--button-hover-fill-color);\n",
              "  }\n",
              "\n",
              "  .colab-df-quickchart-complete:disabled,\n",
              "  .colab-df-quickchart-complete:disabled:hover {\n",
              "    background-color: var(--disabled-bg-color);\n",
              "    fill: var(--disabled-fill-color);\n",
              "    box-shadow: none;\n",
              "  }\n",
              "\n",
              "  .colab-df-spinner {\n",
              "    border: 2px solid var(--fill-color);\n",
              "    border-color: transparent;\n",
              "    border-bottom-color: var(--fill-color);\n",
              "    animation:\n",
              "      spin 1s steps(1) infinite;\n",
              "  }\n",
              "\n",
              "  @keyframes spin {\n",
              "    0% {\n",
              "      border-color: transparent;\n",
              "      border-bottom-color: var(--fill-color);\n",
              "      border-left-color: var(--fill-color);\n",
              "    }\n",
              "    20% {\n",
              "      border-color: transparent;\n",
              "      border-left-color: var(--fill-color);\n",
              "      border-top-color: var(--fill-color);\n",
              "    }\n",
              "    30% {\n",
              "      border-color: transparent;\n",
              "      border-left-color: var(--fill-color);\n",
              "      border-top-color: var(--fill-color);\n",
              "      border-right-color: var(--fill-color);\n",
              "    }\n",
              "    40% {\n",
              "      border-color: transparent;\n",
              "      border-right-color: var(--fill-color);\n",
              "      border-top-color: var(--fill-color);\n",
              "    }\n",
              "    60% {\n",
              "      border-color: transparent;\n",
              "      border-right-color: var(--fill-color);\n",
              "    }\n",
              "    80% {\n",
              "      border-color: transparent;\n",
              "      border-right-color: var(--fill-color);\n",
              "      border-bottom-color: var(--fill-color);\n",
              "    }\n",
              "    90% {\n",
              "      border-color: transparent;\n",
              "      border-bottom-color: var(--fill-color);\n",
              "    }\n",
              "  }\n",
              "</style>\n",
              "\n",
              "  <script>\n",
              "    async function quickchart(key) {\n",
              "      const quickchartButtonEl =\n",
              "        document.querySelector('#' + key + ' button');\n",
              "      quickchartButtonEl.disabled = true;  // To prevent multiple clicks.\n",
              "      quickchartButtonEl.classList.add('colab-df-spinner');\n",
              "      try {\n",
              "        const charts = await google.colab.kernel.invokeFunction(\n",
              "            'suggestCharts', [key], {});\n",
              "      } catch (error) {\n",
              "        console.error('Error during call to suggestCharts:', error);\n",
              "      }\n",
              "      quickchartButtonEl.classList.remove('colab-df-spinner');\n",
              "      quickchartButtonEl.classList.add('colab-df-quickchart-complete');\n",
              "    }\n",
              "    (() => {\n",
              "      let quickchartButtonEl =\n",
              "        document.querySelector('#df-c34f2e08-c449-4236-92ae-0b4d49841b7b button');\n",
              "      quickchartButtonEl.style.display =\n",
              "        google.colab.kernel.accessAllowed ? 'block' : 'none';\n",
              "    })();\n",
              "  </script>\n",
              "</div>\n",
              "    </div>\n",
              "  </div>\n"
            ]
          },
          "metadata": {},
          "execution_count": 3
        }
      ]
    },
    {
      "cell_type": "code",
      "source": [
        "df.shape"
      ],
      "metadata": {
        "colab": {
          "base_uri": "https://localhost:8080/"
        },
        "id": "k6EVRPzT3KhK",
        "outputId": "838e9da2-b9b9-4e62-a5bd-0b58730fe4da"
      },
      "execution_count": 4,
      "outputs": [
        {
          "output_type": "execute_result",
          "data": {
            "text/plain": [
              "(3940, 23)"
            ]
          },
          "metadata": {},
          "execution_count": 4
        }
      ]
    },
    {
      "cell_type": "code",
      "source": [
        "df.info()"
      ],
      "metadata": {
        "colab": {
          "base_uri": "https://localhost:8080/"
        },
        "id": "Ryg-OqEF3Ki3",
        "outputId": "be5e44c8-f2a0-47b1-cc9a-23f1473e7b8f"
      },
      "execution_count": 5,
      "outputs": [
        {
          "output_type": "stream",
          "name": "stdout",
          "text": [
            "<class 'pandas.core.frame.DataFrame'>\n",
            "RangeIndex: 3940 entries, 0 to 3939\n",
            "Data columns (total 23 columns):\n",
            " #   Column               Non-Null Count  Dtype  \n",
            "---  ------               --------------  -----  \n",
            " 0   property_type        3940 non-null   object \n",
            " 1   society              3940 non-null   object \n",
            " 2   sector               3940 non-null   object \n",
            " 3   price_in_cr          3940 non-null   float64\n",
            " 4   price_per_sq.ft      3940 non-null   float64\n",
            " 5   total_area           3940 non-null   float64\n",
            " 6   areaWithType         3940 non-null   object \n",
            " 7   bedrooms             3940 non-null   int64  \n",
            " 8   bathrooms            3940 non-null   int64  \n",
            " 9   balconies            3940 non-null   object \n",
            " 10  floorNum             3921 non-null   float64\n",
            " 11  facing               2770 non-null   object \n",
            " 12  agePossession        3940 non-null   object \n",
            " 13  super_built_up_area  1934 non-null   float64\n",
            " 14  built_up_area        1829 non-null   float64\n",
            " 15  carpet_area          1999 non-null   float64\n",
            " 16  study_room           3940 non-null   int64  \n",
            " 17  servant_room         3940 non-null   int64  \n",
            " 18  store_room           3940 non-null   int64  \n",
            " 19  pooja_room           3940 non-null   int64  \n",
            " 20  others               3940 non-null   int64  \n",
            " 21  furnishing_type      3940 non-null   int64  \n",
            " 22  luxury_score         3940 non-null   int64  \n",
            "dtypes: float64(7), int64(9), object(7)\n",
            "memory usage: 708.1+ KB\n"
          ]
        }
      ]
    },
    {
      "cell_type": "code",
      "source": [
        "df.duplicated().sum()"
      ],
      "metadata": {
        "colab": {
          "base_uri": "https://localhost:8080/"
        },
        "id": "9DvSw9Jp3KlV",
        "outputId": "009f23fd-e005-45b7-bd95-8f4a5431aac7"
      },
      "execution_count": 6,
      "outputs": [
        {
          "output_type": "execute_result",
          "data": {
            "text/plain": [
              "128"
            ]
          },
          "metadata": {},
          "execution_count": 6
        }
      ]
    },
    {
      "cell_type": "code",
      "source": [
        "df.drop_duplicates(inplace=True)"
      ],
      "metadata": {
        "id": "1Ja7_dGU3Kn3"
      },
      "execution_count": 7,
      "outputs": []
    },
    {
      "cell_type": "code",
      "source": [
        "df.shape"
      ],
      "metadata": {
        "colab": {
          "base_uri": "https://localhost:8080/"
        },
        "id": "29Vx9bGt4sKc",
        "outputId": "00051e12-ab67-4aa4-9010-9e2463a67446"
      },
      "execution_count": 8,
      "outputs": [
        {
          "output_type": "execute_result",
          "data": {
            "text/plain": [
              "(3812, 23)"
            ]
          },
          "metadata": {},
          "execution_count": 8
        }
      ]
    },
    {
      "cell_type": "code",
      "source": [
        "df.head()"
      ],
      "metadata": {
        "colab": {
          "base_uri": "https://localhost:8080/",
          "height": 417
        },
        "id": "9oC2KIXv4JQ_",
        "outputId": "b7799802-21b1-4cc3-b863-5d74c2291df2"
      },
      "execution_count": 9,
      "outputs": [
        {
          "output_type": "execute_result",
          "data": {
            "text/plain": [
              "  property_type                 society     sector  price_in_cr  \\\n",
              "0          flat  maa bhagwati residency   sector 3         0.45   \n",
              "1          flat            apna enclave   sector 3         0.50   \n",
              "2          flat  tulsiani easy in homes  sector 35         0.40   \n",
              "3          flat     smart world orchard  sector 61         1.47   \n",
              "4          flat        parkwood westend  sector 92         0.70   \n",
              "\n",
              "   price_per_sq.ft  total_area                            areaWithType  \\\n",
              "0           5000.0       900.0          Carpet area: 900 (83.61 sq.m.)   \n",
              "1           7692.0       650.0          Carpet area: 650 (60.39 sq.m.)   \n",
              "2           6722.0       595.0          Carpet area: 595 (55.28 sq.m.)   \n",
              "3          12250.0      1200.0        Carpet area: 1200 (111.48 sq.m.)   \n",
              "4           5204.0      1345.0  Super Built up area 1345(124.95 sq.m.)   \n",
              "\n",
              "   bedrooms  bathrooms balconies  floorNum facing       agePossession  \\\n",
              "0         2          2         1       4.0   West      Relatively New   \n",
              "1         2          2         1       1.0   West        Old Property   \n",
              "2         2          2         3      12.0    NaN        New Property   \n",
              "3         2          2         2       2.0    NaN           Undefined   \n",
              "4         2          2         3       5.0    NaN  Under Construction   \n",
              "\n",
              "   super_built_up_area  built_up_area  carpet_area  study_room  servant_room  \\\n",
              "0                  NaN            NaN        900.0           0             0   \n",
              "1                  NaN            NaN        650.0           0             0   \n",
              "2                  NaN            NaN        595.0           0             0   \n",
              "3                  NaN            NaN       1200.0           1             0   \n",
              "4               1345.0            NaN          NaN           1             0   \n",
              "\n",
              "   store_room  pooja_room  others  furnishing_type  luxury_score  \n",
              "0           0           0       0                0            28  \n",
              "1           0           0       0                1            37  \n",
              "2           0           0       0                0            36  \n",
              "3           0           0       0                0            76  \n",
              "4           0           0       0                0             0  "
            ],
            "text/html": [
              "\n",
              "  <div id=\"df-dc2e307e-4a0e-4a83-9088-66c66e829056\" class=\"colab-df-container\">\n",
              "    <div>\n",
              "<style scoped>\n",
              "    .dataframe tbody tr th:only-of-type {\n",
              "        vertical-align: middle;\n",
              "    }\n",
              "\n",
              "    .dataframe tbody tr th {\n",
              "        vertical-align: top;\n",
              "    }\n",
              "\n",
              "    .dataframe thead th {\n",
              "        text-align: right;\n",
              "    }\n",
              "</style>\n",
              "<table border=\"1\" class=\"dataframe\">\n",
              "  <thead>\n",
              "    <tr style=\"text-align: right;\">\n",
              "      <th></th>\n",
              "      <th>property_type</th>\n",
              "      <th>society</th>\n",
              "      <th>sector</th>\n",
              "      <th>price_in_cr</th>\n",
              "      <th>price_per_sq.ft</th>\n",
              "      <th>total_area</th>\n",
              "      <th>areaWithType</th>\n",
              "      <th>bedrooms</th>\n",
              "      <th>bathrooms</th>\n",
              "      <th>balconies</th>\n",
              "      <th>floorNum</th>\n",
              "      <th>facing</th>\n",
              "      <th>agePossession</th>\n",
              "      <th>super_built_up_area</th>\n",
              "      <th>built_up_area</th>\n",
              "      <th>carpet_area</th>\n",
              "      <th>study_room</th>\n",
              "      <th>servant_room</th>\n",
              "      <th>store_room</th>\n",
              "      <th>pooja_room</th>\n",
              "      <th>others</th>\n",
              "      <th>furnishing_type</th>\n",
              "      <th>luxury_score</th>\n",
              "    </tr>\n",
              "  </thead>\n",
              "  <tbody>\n",
              "    <tr>\n",
              "      <th>0</th>\n",
              "      <td>flat</td>\n",
              "      <td>maa bhagwati residency</td>\n",
              "      <td>sector 3</td>\n",
              "      <td>0.45</td>\n",
              "      <td>5000.0</td>\n",
              "      <td>900.0</td>\n",
              "      <td>Carpet area: 900 (83.61 sq.m.)</td>\n",
              "      <td>2</td>\n",
              "      <td>2</td>\n",
              "      <td>1</td>\n",
              "      <td>4.0</td>\n",
              "      <td>West</td>\n",
              "      <td>Relatively New</td>\n",
              "      <td>NaN</td>\n",
              "      <td>NaN</td>\n",
              "      <td>900.0</td>\n",
              "      <td>0</td>\n",
              "      <td>0</td>\n",
              "      <td>0</td>\n",
              "      <td>0</td>\n",
              "      <td>0</td>\n",
              "      <td>0</td>\n",
              "      <td>28</td>\n",
              "    </tr>\n",
              "    <tr>\n",
              "      <th>1</th>\n",
              "      <td>flat</td>\n",
              "      <td>apna enclave</td>\n",
              "      <td>sector 3</td>\n",
              "      <td>0.50</td>\n",
              "      <td>7692.0</td>\n",
              "      <td>650.0</td>\n",
              "      <td>Carpet area: 650 (60.39 sq.m.)</td>\n",
              "      <td>2</td>\n",
              "      <td>2</td>\n",
              "      <td>1</td>\n",
              "      <td>1.0</td>\n",
              "      <td>West</td>\n",
              "      <td>Old Property</td>\n",
              "      <td>NaN</td>\n",
              "      <td>NaN</td>\n",
              "      <td>650.0</td>\n",
              "      <td>0</td>\n",
              "      <td>0</td>\n",
              "      <td>0</td>\n",
              "      <td>0</td>\n",
              "      <td>0</td>\n",
              "      <td>1</td>\n",
              "      <td>37</td>\n",
              "    </tr>\n",
              "    <tr>\n",
              "      <th>2</th>\n",
              "      <td>flat</td>\n",
              "      <td>tulsiani easy in homes</td>\n",
              "      <td>sector 35</td>\n",
              "      <td>0.40</td>\n",
              "      <td>6722.0</td>\n",
              "      <td>595.0</td>\n",
              "      <td>Carpet area: 595 (55.28 sq.m.)</td>\n",
              "      <td>2</td>\n",
              "      <td>2</td>\n",
              "      <td>3</td>\n",
              "      <td>12.0</td>\n",
              "      <td>NaN</td>\n",
              "      <td>New Property</td>\n",
              "      <td>NaN</td>\n",
              "      <td>NaN</td>\n",
              "      <td>595.0</td>\n",
              "      <td>0</td>\n",
              "      <td>0</td>\n",
              "      <td>0</td>\n",
              "      <td>0</td>\n",
              "      <td>0</td>\n",
              "      <td>0</td>\n",
              "      <td>36</td>\n",
              "    </tr>\n",
              "    <tr>\n",
              "      <th>3</th>\n",
              "      <td>flat</td>\n",
              "      <td>smart world orchard</td>\n",
              "      <td>sector 61</td>\n",
              "      <td>1.47</td>\n",
              "      <td>12250.0</td>\n",
              "      <td>1200.0</td>\n",
              "      <td>Carpet area: 1200 (111.48 sq.m.)</td>\n",
              "      <td>2</td>\n",
              "      <td>2</td>\n",
              "      <td>2</td>\n",
              "      <td>2.0</td>\n",
              "      <td>NaN</td>\n",
              "      <td>Undefined</td>\n",
              "      <td>NaN</td>\n",
              "      <td>NaN</td>\n",
              "      <td>1200.0</td>\n",
              "      <td>1</td>\n",
              "      <td>0</td>\n",
              "      <td>0</td>\n",
              "      <td>0</td>\n",
              "      <td>0</td>\n",
              "      <td>0</td>\n",
              "      <td>76</td>\n",
              "    </tr>\n",
              "    <tr>\n",
              "      <th>4</th>\n",
              "      <td>flat</td>\n",
              "      <td>parkwood westend</td>\n",
              "      <td>sector 92</td>\n",
              "      <td>0.70</td>\n",
              "      <td>5204.0</td>\n",
              "      <td>1345.0</td>\n",
              "      <td>Super Built up area 1345(124.95 sq.m.)</td>\n",
              "      <td>2</td>\n",
              "      <td>2</td>\n",
              "      <td>3</td>\n",
              "      <td>5.0</td>\n",
              "      <td>NaN</td>\n",
              "      <td>Under Construction</td>\n",
              "      <td>1345.0</td>\n",
              "      <td>NaN</td>\n",
              "      <td>NaN</td>\n",
              "      <td>1</td>\n",
              "      <td>0</td>\n",
              "      <td>0</td>\n",
              "      <td>0</td>\n",
              "      <td>0</td>\n",
              "      <td>0</td>\n",
              "      <td>0</td>\n",
              "    </tr>\n",
              "  </tbody>\n",
              "</table>\n",
              "</div>\n",
              "    <div class=\"colab-df-buttons\">\n",
              "\n",
              "  <div class=\"colab-df-container\">\n",
              "    <button class=\"colab-df-convert\" onclick=\"convertToInteractive('df-dc2e307e-4a0e-4a83-9088-66c66e829056')\"\n",
              "            title=\"Convert this dataframe to an interactive table.\"\n",
              "            style=\"display:none;\">\n",
              "\n",
              "  <svg xmlns=\"http://www.w3.org/2000/svg\" height=\"24px\" viewBox=\"0 -960 960 960\">\n",
              "    <path d=\"M120-120v-720h720v720H120Zm60-500h600v-160H180v160Zm220 220h160v-160H400v160Zm0 220h160v-160H400v160ZM180-400h160v-160H180v160Zm440 0h160v-160H620v160ZM180-180h160v-160H180v160Zm440 0h160v-160H620v160Z\"/>\n",
              "  </svg>\n",
              "    </button>\n",
              "\n",
              "  <style>\n",
              "    .colab-df-container {\n",
              "      display:flex;\n",
              "      gap: 12px;\n",
              "    }\n",
              "\n",
              "    .colab-df-convert {\n",
              "      background-color: #E8F0FE;\n",
              "      border: none;\n",
              "      border-radius: 50%;\n",
              "      cursor: pointer;\n",
              "      display: none;\n",
              "      fill: #1967D2;\n",
              "      height: 32px;\n",
              "      padding: 0 0 0 0;\n",
              "      width: 32px;\n",
              "    }\n",
              "\n",
              "    .colab-df-convert:hover {\n",
              "      background-color: #E2EBFA;\n",
              "      box-shadow: 0px 1px 2px rgba(60, 64, 67, 0.3), 0px 1px 3px 1px rgba(60, 64, 67, 0.15);\n",
              "      fill: #174EA6;\n",
              "    }\n",
              "\n",
              "    .colab-df-buttons div {\n",
              "      margin-bottom: 4px;\n",
              "    }\n",
              "\n",
              "    [theme=dark] .colab-df-convert {\n",
              "      background-color: #3B4455;\n",
              "      fill: #D2E3FC;\n",
              "    }\n",
              "\n",
              "    [theme=dark] .colab-df-convert:hover {\n",
              "      background-color: #434B5C;\n",
              "      box-shadow: 0px 1px 3px 1px rgba(0, 0, 0, 0.15);\n",
              "      filter: drop-shadow(0px 1px 2px rgba(0, 0, 0, 0.3));\n",
              "      fill: #FFFFFF;\n",
              "    }\n",
              "  </style>\n",
              "\n",
              "    <script>\n",
              "      const buttonEl =\n",
              "        document.querySelector('#df-dc2e307e-4a0e-4a83-9088-66c66e829056 button.colab-df-convert');\n",
              "      buttonEl.style.display =\n",
              "        google.colab.kernel.accessAllowed ? 'block' : 'none';\n",
              "\n",
              "      async function convertToInteractive(key) {\n",
              "        const element = document.querySelector('#df-dc2e307e-4a0e-4a83-9088-66c66e829056');\n",
              "        const dataTable =\n",
              "          await google.colab.kernel.invokeFunction('convertToInteractive',\n",
              "                                                    [key], {});\n",
              "        if (!dataTable) return;\n",
              "\n",
              "        const docLinkHtml = 'Like what you see? Visit the ' +\n",
              "          '<a target=\"_blank\" href=https://colab.research.google.com/notebooks/data_table.ipynb>data table notebook</a>'\n",
              "          + ' to learn more about interactive tables.';\n",
              "        element.innerHTML = '';\n",
              "        dataTable['output_type'] = 'display_data';\n",
              "        await google.colab.output.renderOutput(dataTable, element);\n",
              "        const docLink = document.createElement('div');\n",
              "        docLink.innerHTML = docLinkHtml;\n",
              "        element.appendChild(docLink);\n",
              "      }\n",
              "    </script>\n",
              "  </div>\n",
              "\n",
              "\n",
              "<div id=\"df-9862a54e-020a-4507-96db-29bdbcee8476\">\n",
              "  <button class=\"colab-df-quickchart\" onclick=\"quickchart('df-9862a54e-020a-4507-96db-29bdbcee8476')\"\n",
              "            title=\"Suggest charts.\"\n",
              "            style=\"display:none;\">\n",
              "\n",
              "<svg xmlns=\"http://www.w3.org/2000/svg\" height=\"24px\"viewBox=\"0 0 24 24\"\n",
              "     width=\"24px\">\n",
              "    <g>\n",
              "        <path d=\"M19 3H5c-1.1 0-2 .9-2 2v14c0 1.1.9 2 2 2h14c1.1 0 2-.9 2-2V5c0-1.1-.9-2-2-2zM9 17H7v-7h2v7zm4 0h-2V7h2v10zm4 0h-2v-4h2v4z\"/>\n",
              "    </g>\n",
              "</svg>\n",
              "  </button>\n",
              "\n",
              "<style>\n",
              "  .colab-df-quickchart {\n",
              "      --bg-color: #E8F0FE;\n",
              "      --fill-color: #1967D2;\n",
              "      --hover-bg-color: #E2EBFA;\n",
              "      --hover-fill-color: #174EA6;\n",
              "      --disabled-fill-color: #AAA;\n",
              "      --disabled-bg-color: #DDD;\n",
              "  }\n",
              "\n",
              "  [theme=dark] .colab-df-quickchart {\n",
              "      --bg-color: #3B4455;\n",
              "      --fill-color: #D2E3FC;\n",
              "      --hover-bg-color: #434B5C;\n",
              "      --hover-fill-color: #FFFFFF;\n",
              "      --disabled-bg-color: #3B4455;\n",
              "      --disabled-fill-color: #666;\n",
              "  }\n",
              "\n",
              "  .colab-df-quickchart {\n",
              "    background-color: var(--bg-color);\n",
              "    border: none;\n",
              "    border-radius: 50%;\n",
              "    cursor: pointer;\n",
              "    display: none;\n",
              "    fill: var(--fill-color);\n",
              "    height: 32px;\n",
              "    padding: 0;\n",
              "    width: 32px;\n",
              "  }\n",
              "\n",
              "  .colab-df-quickchart:hover {\n",
              "    background-color: var(--hover-bg-color);\n",
              "    box-shadow: 0 1px 2px rgba(60, 64, 67, 0.3), 0 1px 3px 1px rgba(60, 64, 67, 0.15);\n",
              "    fill: var(--button-hover-fill-color);\n",
              "  }\n",
              "\n",
              "  .colab-df-quickchart-complete:disabled,\n",
              "  .colab-df-quickchart-complete:disabled:hover {\n",
              "    background-color: var(--disabled-bg-color);\n",
              "    fill: var(--disabled-fill-color);\n",
              "    box-shadow: none;\n",
              "  }\n",
              "\n",
              "  .colab-df-spinner {\n",
              "    border: 2px solid var(--fill-color);\n",
              "    border-color: transparent;\n",
              "    border-bottom-color: var(--fill-color);\n",
              "    animation:\n",
              "      spin 1s steps(1) infinite;\n",
              "  }\n",
              "\n",
              "  @keyframes spin {\n",
              "    0% {\n",
              "      border-color: transparent;\n",
              "      border-bottom-color: var(--fill-color);\n",
              "      border-left-color: var(--fill-color);\n",
              "    }\n",
              "    20% {\n",
              "      border-color: transparent;\n",
              "      border-left-color: var(--fill-color);\n",
              "      border-top-color: var(--fill-color);\n",
              "    }\n",
              "    30% {\n",
              "      border-color: transparent;\n",
              "      border-left-color: var(--fill-color);\n",
              "      border-top-color: var(--fill-color);\n",
              "      border-right-color: var(--fill-color);\n",
              "    }\n",
              "    40% {\n",
              "      border-color: transparent;\n",
              "      border-right-color: var(--fill-color);\n",
              "      border-top-color: var(--fill-color);\n",
              "    }\n",
              "    60% {\n",
              "      border-color: transparent;\n",
              "      border-right-color: var(--fill-color);\n",
              "    }\n",
              "    80% {\n",
              "      border-color: transparent;\n",
              "      border-right-color: var(--fill-color);\n",
              "      border-bottom-color: var(--fill-color);\n",
              "    }\n",
              "    90% {\n",
              "      border-color: transparent;\n",
              "      border-bottom-color: var(--fill-color);\n",
              "    }\n",
              "  }\n",
              "</style>\n",
              "\n",
              "  <script>\n",
              "    async function quickchart(key) {\n",
              "      const quickchartButtonEl =\n",
              "        document.querySelector('#' + key + ' button');\n",
              "      quickchartButtonEl.disabled = true;  // To prevent multiple clicks.\n",
              "      quickchartButtonEl.classList.add('colab-df-spinner');\n",
              "      try {\n",
              "        const charts = await google.colab.kernel.invokeFunction(\n",
              "            'suggestCharts', [key], {});\n",
              "      } catch (error) {\n",
              "        console.error('Error during call to suggestCharts:', error);\n",
              "      }\n",
              "      quickchartButtonEl.classList.remove('colab-df-spinner');\n",
              "      quickchartButtonEl.classList.add('colab-df-quickchart-complete');\n",
              "    }\n",
              "    (() => {\n",
              "      let quickchartButtonEl =\n",
              "        document.querySelector('#df-9862a54e-020a-4507-96db-29bdbcee8476 button');\n",
              "      quickchartButtonEl.style.display =\n",
              "        google.colab.kernel.accessAllowed ? 'block' : 'none';\n",
              "    })();\n",
              "  </script>\n",
              "</div>\n",
              "    </div>\n",
              "  </div>\n"
            ]
          },
          "metadata": {},
          "execution_count": 9
        }
      ]
    },
    {
      "cell_type": "markdown",
      "source": [
        "**PROPERTY_TYPE**"
      ],
      "metadata": {
        "id": "6sfuTyKw4ut8"
      }
    },
    {
      "cell_type": "code",
      "source": [
        "print(df['property_type'].value_counts().plot(kind='bar'))\n",
        "df['property_type'].value_counts()"
      ],
      "metadata": {
        "colab": {
          "base_uri": "https://localhost:8080/",
          "height": 531
        },
        "id": "xbrsMGSW3Kqg",
        "outputId": "35956a5b-6060-4c6a-d53b-c91280c7d98e"
      },
      "execution_count": 10,
      "outputs": [
        {
          "output_type": "stream",
          "name": "stdout",
          "text": [
            "Axes(0.125,0.11;0.775x0.77)\n"
          ]
        },
        {
          "output_type": "execute_result",
          "data": {
            "text/plain": [
              "flat     2867\n",
              "house     945\n",
              "Name: property_type, dtype: int64"
            ]
          },
          "metadata": {},
          "execution_count": 10
        },
        {
          "output_type": "display_data",
          "data": {
            "text/plain": [
              "<Figure size 640x480 with 1 Axes>"
            ],
            "image/png": "[encoded data removed]"
          },
          "metadata": {}
        }
      ]
    },
    {
      "cell_type": "markdown",
      "source": [
        "**Ovservations**\n",
        "\n",
        "*   75% of data have property_type as flat and ~25% have property_type as house\n",
        "*   No null value\n"
      ],
      "metadata": {
        "id": "lq1CoRTe41AI"
      }
    },
    {
      "cell_type": "markdown",
      "source": [
        "**SOCIETY**"
      ],
      "metadata": {
        "id": "F2gEnYSv6mxo"
      }
    },
    {
      "cell_type": "code",
      "source": [
        "df['society'].isnull().sum()"
      ],
      "metadata": {
        "colab": {
          "base_uri": "https://localhost:8080/"
        },
        "id": "JLasTnFNB7M3",
        "outputId": "04c8c09c-0e02-42df-9f1a-f90f77abced1"
      },
      "execution_count": 11,
      "outputs": [
        {
          "output_type": "execute_result",
          "data": {
            "text/plain": [
              "0"
            ]
          },
          "metadata": {},
          "execution_count": 11
        }
      ]
    },
    {
      "cell_type": "code",
      "source": [
        "df['society'].value_counts()"
      ],
      "metadata": {
        "colab": {
          "base_uri": "https://localhost:8080/"
        },
        "id": "RweRagrE3KsQ",
        "outputId": "aec82937-34e6-4dc8-8723-34f8f10d64d6"
      },
      "execution_count": 12,
      "outputs": [
        {
          "output_type": "execute_result",
          "data": {
            "text/plain": [
              "independent                               566\n",
              "tulip violet                               75\n",
              "ss the leaf                                73\n",
              "shapoorji pallonji joyville gurugram       42\n",
              "dlf new town heights                       42\n",
              "                                         ... \n",
              "m m residency, krishna colony, gurgaon      1\n",
              "g l s arawali homes                         1\n",
              "adarsh nagar                                1\n",
              "kamal residence                             1\n",
              "maa bhagwati residency                      1\n",
              "Name: society, Length: 723, dtype: int64"
            ]
          },
          "metadata": {},
          "execution_count": 12
        }
      ]
    },
    {
      "cell_type": "code",
      "source": [
        "df['society'].value_counts().head(10).plot(kind='bar')"
      ],
      "metadata": {
        "colab": {
          "base_uri": "https://localhost:8080/",
          "height": 678
        },
        "id": "74v2Dart3Kt5",
        "outputId": "1e2624fd-ac9b-4be6-f11b-a61696eeb492"
      },
      "execution_count": 13,
      "outputs": [
        {
          "output_type": "execute_result",
          "data": {
            "text/plain": [
              "<Axes: >"
            ]
          },
          "metadata": {},
          "execution_count": 13
        },
        {
          "output_type": "display_data",
          "data": {
            "text/plain": [
              "<Figure size 640x480 with 1 Axes>"
            ],
            "image/png": "[encoded data removed]"
          },
          "metadata": {}
        }
      ]
    },
    {
      "cell_type": "code",
      "source": [
        "df['society'].value_counts().cumsum().head(75)"
      ],
      "metadata": {
        "colab": {
          "base_uri": "https://localhost:8080/"
        },
        "id": "PGF8aS4UsM6x",
        "outputId": "5ec00d8d-ad22-4ed6-84fd-124a8782d393"
      },
      "execution_count": 14,
      "outputs": [
        {
          "output_type": "execute_result",
          "data": {
            "text/plain": [
              "independent                              566\n",
              "tulip violet                             641\n",
              "ss the leaf                              714\n",
              "shapoorji pallonji joyville gurugram     756\n",
              "dlf new town heights                     798\n",
              "                                        ... \n",
              "umang monsoon breeze                    2114\n",
              "ats kocoon                              2127\n",
              "indiabulls enigma                       2140\n",
              "the close north                         2153\n",
              "central park flower valley              2165\n",
              "Name: society, Length: 75, dtype: int64"
            ]
          },
          "metadata": {},
          "execution_count": 14
        }
      ]
    },
    {
      "cell_type": "markdown",
      "source": [
        "**Observations**\n",
        "*  ~15% weightage of the society column contained by independent house\n",
        "* 723 different societies\n",
        "* ~57% weightage of the society comes from top 75 societies. Remaining  weightage divided into the 648 societies."
      ],
      "metadata": {
        "id": "3EczrPYtD7ZC"
      }
    },
    {
      "cell_type": "markdown",
      "source": [
        "**SECTOR**"
      ],
      "metadata": {
        "id": "TC6qxUg0vCH7"
      }
    },
    {
      "cell_type": "code",
      "source": [
        "df.sector.isnull().sum()"
      ],
      "metadata": {
        "colab": {
          "base_uri": "https://localhost:8080/"
        },
        "id": "U8ciUQT_3Kvo",
        "outputId": "a7fd6f4a-5a7f-4fa2-9212-9a8023da4e44"
      },
      "execution_count": 15,
      "outputs": [
        {
          "output_type": "execute_result",
          "data": {
            "text/plain": [
              "0"
            ]
          },
          "metadata": {},
          "execution_count": 15
        }
      ]
    },
    {
      "cell_type": "code",
      "source": [
        "df.sector.value_counts()"
      ],
      "metadata": {
        "colab": {
          "base_uri": "https://localhost:8080/"
        },
        "id": "jz3JjPDUxHge",
        "outputId": "a85eee77-881b-44b1-bcbd-72f0b4f9177e"
      },
      "execution_count": 16,
      "outputs": [
        {
          "output_type": "execute_result",
          "data": {
            "text/plain": [
              "sector 37      120\n",
              "sector 102     109\n",
              "sector 85      108\n",
              "sector 70      104\n",
              "sector 92       99\n",
              "              ... \n",
              "sector-61        1\n",
              "sector-7         1\n",
              "sector-69        1\n",
              "sector-3         1\n",
              "sector - 89      1\n",
              "Name: sector, Length: 125, dtype: int64"
            ]
          },
          "metadata": {},
          "execution_count": 16
        }
      ]
    },
    {
      "cell_type": "code",
      "source": [
        "df.sector.value_counts().head(10).plot(kind='bar')"
      ],
      "metadata": {
        "colab": {
          "base_uri": "https://localhost:8080/",
          "height": 507
        },
        "id": "tbfoKov_3KxV",
        "outputId": "fcc116f6-2d70-4d12-e3bc-be78d7df10d4"
      },
      "execution_count": 17,
      "outputs": [
        {
          "output_type": "execute_result",
          "data": {
            "text/plain": [
              "<Axes: >"
            ]
          },
          "metadata": {},
          "execution_count": 17
        },
        {
          "output_type": "display_data",
          "data": {
            "text/plain": [
              "<Figure size 640x480 with 1 Axes>"
            ],
            "image/png": "[encoded data removed]"
          },
          "metadata": {}
        }
      ]
    },
    {
      "cell_type": "code",
      "source": [
        "# Frequency distribution for sectors\n",
        "sector_counts = df['sector'].value_counts()\n",
        "\n",
        "sector_frequency_bins = {\n",
        "    \"Very High (>100)\": (sector_counts > 100).sum(),\n",
        "    \"High (50-100)\": ((sector_counts >= 50) & (sector_counts <= 100)).sum(),\n",
        "    \"Average (10-49)\": ((sector_counts >= 10) & (sector_counts < 50)).sum(),\n",
        "    \"Low (2-9)\": ((sector_counts > 1) & (sector_counts < 10)).sum(),\n",
        "    \"Very Low (1)\": (sector_counts == 1).sum()\n",
        "}\n",
        "\n",
        "sector_frequency_bins"
      ],
      "metadata": {
        "colab": {
          "base_uri": "https://localhost:8080/"
        },
        "id": "WFGG303r3Kzx",
        "outputId": "02214486-7e5b-4d57-e2e7-d71d5963e4d4"
      },
      "execution_count": 18,
      "outputs": [
        {
          "output_type": "execute_result",
          "data": {
            "text/plain": [
              "{'Very High (>100)': 4,\n",
              " 'High (50-100)': 26,\n",
              " 'Average (10-49)': 59,\n",
              " 'Low (2-9)': 22,\n",
              " 'Very Low (1)': 14}"
            ]
          },
          "metadata": {},
          "execution_count": 18
        }
      ]
    },
    {
      "cell_type": "markdown",
      "source": [
        "**Observations**\n",
        "* No missing value\n",
        "* 125 different sectors\n",
        "* 4 sectors have more than 100 countings"
      ],
      "metadata": {
        "id": "7OIU_JxRwb4G"
      }
    },
    {
      "cell_type": "markdown",
      "source": [
        "**PRICE_IN_CR**"
      ],
      "metadata": {
        "id": "22jzlRC0xe63"
      }
    },
    {
      "cell_type": "code",
      "source": [
        "df['price_in_cr'].isnull().sum()"
      ],
      "metadata": {
        "colab": {
          "base_uri": "https://localhost:8080/"
        },
        "id": "KSeUeZSz3K2D",
        "outputId": "d6594b15-48ba-4ae5-ed0b-6e1486830349"
      },
      "execution_count": 19,
      "outputs": [
        {
          "output_type": "execute_result",
          "data": {
            "text/plain": [
              "0"
            ]
          },
          "metadata": {},
          "execution_count": 19
        }
      ]
    },
    {
      "cell_type": "code",
      "source": [
        "df['price_in_cr'].describe()"
      ],
      "metadata": {
        "colab": {
          "base_uri": "https://localhost:8080/"
        },
        "id": "zyaf2BLp3K4J",
        "outputId": "92db7961-0968-4bae-a1f3-38c74dfd65a8"
      },
      "execution_count": 20,
      "outputs": [
        {
          "output_type": "execute_result",
          "data": {
            "text/plain": [
              "count    3812.000000\n",
              "mean        2.500988\n",
              "std         2.951682\n",
              "min         0.075000\n",
              "25%         0.920000\n",
              "50%         1.500000\n",
              "75%         2.700000\n",
              "max        31.500000\n",
              "Name: price_in_cr, dtype: float64"
            ]
          },
          "metadata": {},
          "execution_count": 20
        }
      ]
    },
    {
      "cell_type": "code",
      "source": [
        "df[df['price_in_cr']==31.5]"
      ],
      "metadata": {
        "colab": {
          "base_uri": "https://localhost:8080/",
          "height": 222
        },
        "id": "ZqVh7bvE3K6h",
        "outputId": "06547358-d729-4f3c-b500-cc2e71b6c89f"
      },
      "execution_count": 21,
      "outputs": [
        {
          "output_type": "execute_result",
          "data": {
            "text/plain": [
              "     property_type                                            society  \\\n",
              "3851         house  arjun marg/ sector- 26 phase- 1/ golf course road   \n",
              "\n",
              "         sector  price_in_cr  price_per_sq.ft  total_area  \\\n",
              "3851  sector 26         31.5          35000.0      9000.0   \n",
              "\n",
              "                      areaWithType  bedrooms  bathrooms balconies  floorNum  \\\n",
              "3851  Plot area 1000(836.13 sq.m.)         7          9        3+       3.0   \n",
              "\n",
              "          facing   agePossession  super_built_up_area  built_up_area  \\\n",
              "3851  North-East  Moderately Old                  NaN         9000.0   \n",
              "\n",
              "      carpet_area  study_room  servant_room  store_room  pooja_room  others  \\\n",
              "3851          NaN           1             1           1           1       0   \n",
              "\n",
              "      furnishing_type  luxury_score  \n",
              "3851                2            74  "
            ],
            "text/html": [
              "\n",
              "  <div id=\"df-f0ef1bff-b77f-4e27-bf6b-53bd0d6a956f\" class=\"colab-df-container\">\n",
              "    <div>\n",
              "<style scoped>\n",
              "    .dataframe tbody tr th:only-of-type {\n",
              "        vertical-align: middle;\n",
              "    }\n",
              "\n",
              "    .dataframe tbody tr th {\n",
              "        vertical-align: top;\n",
              "    }\n",
              "\n",
              "    .dataframe thead th {\n",
              "        text-align: right;\n",
              "    }\n",
              "</style>\n",
              "<table border=\"1\" class=\"dataframe\">\n",
              "  <thead>\n",
              "    <tr style=\"text-align: right;\">\n",
              "      <th></th>\n",
              "      <th>property_type</th>\n",
              "      <th>society</th>\n",
              "      <th>sector</th>\n",
              "      <th>price_in_cr</th>\n",
              "      <th>price_per_sq.ft</th>\n",
              "      <th>total_area</th>\n",
              "      <th>areaWithType</th>\n",
              "      <th>bedrooms</th>\n",
              "      <th>bathrooms</th>\n",
              "      <th>balconies</th>\n",
              "      <th>floorNum</th>\n",
              "      <th>facing</th>\n",
              "      <th>agePossession</th>\n",
              "      <th>super_built_up_area</th>\n",
              "      <th>built_up_area</th>\n",
              "      <th>carpet_area</th>\n",
              "      <th>study_room</th>\n",
              "      <th>servant_room</th>\n",
              "      <th>store_room</th>\n",
              "      <th>pooja_room</th>\n",
              "      <th>others</th>\n",
              "      <th>furnishing_type</th>\n",
              "      <th>luxury_score</th>\n",
              "    </tr>\n",
              "  </thead>\n",
              "  <tbody>\n",
              "    <tr>\n",
              "      <th>3851</th>\n",
              "      <td>house</td>\n",
              "      <td>arjun marg/ sector- 26 phase- 1/ golf course road</td>\n",
              "      <td>sector 26</td>\n",
              "      <td>31.5</td>\n",
              "      <td>35000.0</td>\n",
              "      <td>9000.0</td>\n",
              "      <td>Plot area 1000(836.13 sq.m.)</td>\n",
              "      <td>7</td>\n",
              "      <td>9</td>\n",
              "      <td>3+</td>\n",
              "      <td>3.0</td>\n",
              "      <td>North-East</td>\n",
              "      <td>Moderately Old</td>\n",
              "      <td>NaN</td>\n",
              "      <td>9000.0</td>\n",
              "      <td>NaN</td>\n",
              "      <td>1</td>\n",
              "      <td>1</td>\n",
              "      <td>1</td>\n",
              "      <td>1</td>\n",
              "      <td>0</td>\n",
              "      <td>2</td>\n",
              "      <td>74</td>\n",
              "    </tr>\n",
              "  </tbody>\n",
              "</table>\n",
              "</div>\n",
              "    <div class=\"colab-df-buttons\">\n",
              "\n",
              "  <div class=\"colab-df-container\">\n",
              "    <button class=\"colab-df-convert\" onclick=\"convertToInteractive('df-f0ef1bff-b77f-4e27-bf6b-53bd0d6a956f')\"\n",
              "            title=\"Convert this dataframe to an interactive table.\"\n",
              "            style=\"display:none;\">\n",
              "\n",
              "  <svg xmlns=\"http://www.w3.org/2000/svg\" height=\"24px\" viewBox=\"0 -960 960 960\">\n",
              "    <path d=\"M120-120v-720h720v720H120Zm60-500h600v-160H180v160Zm220 220h160v-160H400v160Zm0 220h160v-160H400v160ZM180-400h160v-160H180v160Zm440 0h160v-160H620v160ZM180-180h160v-160H180v160Zm440 0h160v-160H620v160Z\"/>\n",
              "  </svg>\n",
              "    </button>\n",
              "\n",
              "  <style>\n",
              "    .colab-df-container {\n",
              "      display:flex;\n",
              "      gap: 12px;\n",
              "    }\n",
              "\n",
              "    .colab-df-convert {\n",
              "      background-color: #E8F0FE;\n",
              "      border: none;\n",
              "      border-radius: 50%;\n",
              "      cursor: pointer;\n",
              "      display: none;\n",
              "      fill: #1967D2;\n",
              "      height: 32px;\n",
              "      padding: 0 0 0 0;\n",
              "      width: 32px;\n",
              "    }\n",
              "\n",
              "    .colab-df-convert:hover {\n",
              "      background-color: #E2EBFA;\n",
              "      box-shadow: 0px 1px 2px rgba(60, 64, 67, 0.3), 0px 1px 3px 1px rgba(60, 64, 67, 0.15);\n",
              "      fill: #174EA6;\n",
              "    }\n",
              "\n",
              "    .colab-df-buttons div {\n",
              "      margin-bottom: 4px;\n",
              "    }\n",
              "\n",
              "    [theme=dark] .colab-df-convert {\n",
              "      background-color: #3B4455;\n",
              "      fill: #D2E3FC;\n",
              "    }\n",
              "\n",
              "    [theme=dark] .colab-df-convert:hover {\n",
              "      background-color: #434B5C;\n",
              "      box-shadow: 0px 1px 3px 1px rgba(0, 0, 0, 0.15);\n",
              "      filter: drop-shadow(0px 1px 2px rgba(0, 0, 0, 0.3));\n",
              "      fill: #FFFFFF;\n",
              "    }\n",
              "  </style>\n",
              "\n",
              "    <script>\n",
              "      const buttonEl =\n",
              "        document.querySelector('#df-f0ef1bff-b77f-4e27-bf6b-53bd0d6a956f button.colab-df-convert');\n",
              "      buttonEl.style.display =\n",
              "        google.colab.kernel.accessAllowed ? 'block' : 'none';\n",
              "\n",
              "      async function convertToInteractive(key) {\n",
              "        const element = document.querySelector('#df-f0ef1bff-b77f-4e27-bf6b-53bd0d6a956f');\n",
              "        const dataTable =\n",
              "          await google.colab.kernel.invokeFunction('convertToInteractive',\n",
              "                                                    [key], {});\n",
              "        if (!dataTable) return;\n",
              "\n",
              "        const docLinkHtml = 'Like what you see? Visit the ' +\n",
              "          '<a target=\"_blank\" href=https://colab.research.google.com/notebooks/data_table.ipynb>data table notebook</a>'\n",
              "          + ' to learn more about interactive tables.';\n",
              "        element.innerHTML = '';\n",
              "        dataTable['output_type'] = 'display_data';\n",
              "        await google.colab.output.renderOutput(dataTable, element);\n",
              "        const docLink = document.createElement('div');\n",
              "        docLink.innerHTML = docLinkHtml;\n",
              "        element.appendChild(docLink);\n",
              "      }\n",
              "    </script>\n",
              "  </div>\n",
              "\n",
              "    </div>\n",
              "  </div>\n"
            ]
          },
          "metadata": {},
          "execution_count": 21
        }
      ]
    },
    {
      "cell_type": "code",
      "source": [
        "df[df['price_in_cr']==0.075]"
      ],
      "metadata": {
        "colab": {
          "base_uri": "https://localhost:8080/",
          "height": 135
        },
        "id": "MlsPrFOZ3K99",
        "outputId": "4bcf2713-450f-4096-d3b4-e0f591a67663"
      },
      "execution_count": 22,
      "outputs": [
        {
          "output_type": "execute_result",
          "data": {
            "text/plain": [
              "     property_type      society     sector  price_in_cr  price_per_sq.ft  \\\n",
              "3216         house  independent  sector 33        0.075           2525.0   \n",
              "\n",
              "      total_area               areaWithType  bedrooms  bathrooms balconies  \\\n",
              "3216       297.0  Plot area 33(27.59 sq.m.)         1          1        No   \n",
              "\n",
              "      floorNum facing   agePossession  super_built_up_area  built_up_area  \\\n",
              "3216       1.0    NaN  Relatively New                  NaN          297.0   \n",
              "\n",
              "      carpet_area  study_room  servant_room  store_room  pooja_room  others  \\\n",
              "3216          NaN           0             0           0           0       0   \n",
              "\n",
              "      furnishing_type  luxury_score  \n",
              "3216                0             0  "
            ],
            "text/html": [
              "\n",
              "  <div id=\"df-ef98bd77-5d36-46c6-803e-e5b3ec759464\" class=\"colab-df-container\">\n",
              "    <div>\n",
              "<style scoped>\n",
              "    .dataframe tbody tr th:only-of-type {\n",
              "        vertical-align: middle;\n",
              "    }\n",
              "\n",
              "    .dataframe tbody tr th {\n",
              "        vertical-align: top;\n",
              "    }\n",
              "\n",
              "    .dataframe thead th {\n",
              "        text-align: right;\n",
              "    }\n",
              "</style>\n",
              "<table border=\"1\" class=\"dataframe\">\n",
              "  <thead>\n",
              "    <tr style=\"text-align: right;\">\n",
              "      <th></th>\n",
              "      <th>property_type</th>\n",
              "      <th>society</th>\n",
              "      <th>sector</th>\n",
              "      <th>price_in_cr</th>\n",
              "      <th>price_per_sq.ft</th>\n",
              "      <th>total_area</th>\n",
              "      <th>areaWithType</th>\n",
              "      <th>bedrooms</th>\n",
              "      <th>bathrooms</th>\n",
              "      <th>balconies</th>\n",
              "      <th>floorNum</th>\n",
              "      <th>facing</th>\n",
              "      <th>agePossession</th>\n",
              "      <th>super_built_up_area</th>\n",
              "      <th>built_up_area</th>\n",
              "      <th>carpet_area</th>\n",
              "      <th>study_room</th>\n",
              "      <th>servant_room</th>\n",
              "      <th>store_room</th>\n",
              "      <th>pooja_room</th>\n",
              "      <th>others</th>\n",
              "      <th>furnishing_type</th>\n",
              "      <th>luxury_score</th>\n",
              "    </tr>\n",
              "  </thead>\n",
              "  <tbody>\n",
              "    <tr>\n",
              "      <th>3216</th>\n",
              "      <td>house</td>\n",
              "      <td>independent</td>\n",
              "      <td>sector 33</td>\n",
              "      <td>0.075</td>\n",
              "      <td>2525.0</td>\n",
              "      <td>297.0</td>\n",
              "      <td>Plot area 33(27.59 sq.m.)</td>\n",
              "      <td>1</td>\n",
              "      <td>1</td>\n",
              "      <td>No</td>\n",
              "      <td>1.0</td>\n",
              "      <td>NaN</td>\n",
              "      <td>Relatively New</td>\n",
              "      <td>NaN</td>\n",
              "      <td>297.0</td>\n",
              "      <td>NaN</td>\n",
              "      <td>0</td>\n",
              "      <td>0</td>\n",
              "      <td>0</td>\n",
              "      <td>0</td>\n",
              "      <td>0</td>\n",
              "      <td>0</td>\n",
              "      <td>0</td>\n",
              "    </tr>\n",
              "  </tbody>\n",
              "</table>\n",
              "</div>\n",
              "    <div class=\"colab-df-buttons\">\n",
              "\n",
              "  <div class=\"colab-df-container\">\n",
              "    <button class=\"colab-df-convert\" onclick=\"convertToInteractive('df-ef98bd77-5d36-46c6-803e-e5b3ec759464')\"\n",
              "            title=\"Convert this dataframe to an interactive table.\"\n",
              "            style=\"display:none;\">\n",
              "\n",
              "  <svg xmlns=\"http://www.w3.org/2000/svg\" height=\"24px\" viewBox=\"0 -960 960 960\">\n",
              "    <path d=\"M120-120v-720h720v720H120Zm60-500h600v-160H180v160Zm220 220h160v-160H400v160Zm0 220h160v-160H400v160ZM180-400h160v-160H180v160Zm440 0h160v-160H620v160ZM180-180h160v-160H180v160Zm440 0h160v-160H620v160Z\"/>\n",
              "  </svg>\n",
              "    </button>\n",
              "\n",
              "  <style>\n",
              "    .colab-df-container {\n",
              "      display:flex;\n",
              "      gap: 12px;\n",
              "    }\n",
              "\n",
              "    .colab-df-convert {\n",
              "      background-color: #E8F0FE;\n",
              "      border: none;\n",
              "      border-radius: 50%;\n",
              "      cursor: pointer;\n",
              "      display: none;\n",
              "      fill: #1967D2;\n",
              "      height: 32px;\n",
              "      padding: 0 0 0 0;\n",
              "      width: 32px;\n",
              "    }\n",
              "\n",
              "    .colab-df-convert:hover {\n",
              "      background-color: #E2EBFA;\n",
              "      box-shadow: 0px 1px 2px rgba(60, 64, 67, 0.3), 0px 1px 3px 1px rgba(60, 64, 67, 0.15);\n",
              "      fill: #174EA6;\n",
              "    }\n",
              "\n",
              "    .colab-df-buttons div {\n",
              "      margin-bottom: 4px;\n",
              "    }\n",
              "\n",
              "    [theme=dark] .colab-df-convert {\n",
              "      background-color: #3B4455;\n",
              "      fill: #D2E3FC;\n",
              "    }\n",
              "\n",
              "    [theme=dark] .colab-df-convert:hover {\n",
              "      background-color: #434B5C;\n",
              "      box-shadow: 0px 1px 3px 1px rgba(0, 0, 0, 0.15);\n",
              "      filter: drop-shadow(0px 1px 2px rgba(0, 0, 0, 0.3));\n",
              "      fill: #FFFFFF;\n",
              "    }\n",
              "  </style>\n",
              "\n",
              "    <script>\n",
              "      const buttonEl =\n",
              "        document.querySelector('#df-ef98bd77-5d36-46c6-803e-e5b3ec759464 button.colab-df-convert');\n",
              "      buttonEl.style.display =\n",
              "        google.colab.kernel.accessAllowed ? 'block' : 'none';\n",
              "\n",
              "      async function convertToInteractive(key) {\n",
              "        const element = document.querySelector('#df-ef98bd77-5d36-46c6-803e-e5b3ec759464');\n",
              "        const dataTable =\n",
              "          await google.colab.kernel.invokeFunction('convertToInteractive',\n",
              "                                                    [key], {});\n",
              "        if (!dataTable) return;\n",
              "\n",
              "        const docLinkHtml = 'Like what you see? Visit the ' +\n",
              "          '<a target=\"_blank\" href=https://colab.research.google.com/notebooks/data_table.ipynb>data table notebook</a>'\n",
              "          + ' to learn more about interactive tables.';\n",
              "        element.innerHTML = '';\n",
              "        dataTable['output_type'] = 'display_data';\n",
              "        await google.colab.output.renderOutput(dataTable, element);\n",
              "        const docLink = document.createElement('div');\n",
              "        docLink.innerHTML = docLinkHtml;\n",
              "        element.appendChild(docLink);\n",
              "      }\n",
              "    </script>\n",
              "  </div>\n",
              "\n",
              "    </div>\n",
              "  </div>\n"
            ]
          },
          "metadata": {},
          "execution_count": 22
        }
      ]
    },
    {
      "cell_type": "code",
      "source": [
        "sns.histplot(df['price_in_cr'],kde=True, bins=50)"
      ],
      "metadata": {
        "colab": {
          "base_uri": "https://localhost:8080/",
          "height": 467
        },
        "id": "4oYb_LxrywIb",
        "outputId": "b440067d-b348-4b1a-ebc4-c45b951e4982"
      },
      "execution_count": 23,
      "outputs": [
        {
          "output_type": "execute_result",
          "data": {
            "text/plain": [
              "<Axes: xlabel='price_in_cr', ylabel='Count'>"
            ]
          },
          "metadata": {},
          "execution_count": 23
        },
        {
          "output_type": "display_data",
          "data": {
            "text/plain": [
              "<Figure size 640x480 with 1 Axes>"
            ],
            "image/png": "[encoded data removed]"
          },
          "metadata": {}
        }
      ]
    },
    {
      "cell_type": "code",
      "source": [
        "sns.boxplot(x=df['price_in_cr'], color='lightgreen')\n",
        "plt.grid()"
      ],
      "metadata": {
        "colab": {
          "base_uri": "https://localhost:8080/",
          "height": 450
        },
        "id": "Yh6eNmVXywFD",
        "outputId": "0b4cc888-e21a-4009-98b0-b127f15f0c88"
      },
      "execution_count": 24,
      "outputs": [
        {
          "output_type": "display_data",
          "data": {
            "text/plain": [
              "<Figure size 640x480 with 1 Axes>"
            ],
            "image/png": "[encoded data removed]"
          },
          "metadata": {}
        }
      ]
    },
    {
      "cell_type": "markdown",
      "source": [
        "**Observations**\n",
        "Descriptive Statistics:\n",
        "\n",
        "* Mean Price: The average price is approximately 2.50 crores.\n",
        "* Median Price: The median (or 50th percentile) price is 1.50 crores.\n",
        "* Standard Deviation: The prices have a standard deviation of 2.95, indicating variability in the prices.\n",
        "* Range: Prices range from a minimum of 0.075 crores to a maximum of 31.5 crores.\n",
        "* IQR: The interquartile range (difference between 75th and 25th  percentile) is from 0.92 crores to 2.70 crores.\n",
        "Visualizations:\n",
        "\n",
        "* Distribution: The histogram indicates that most properties are priced in the lower range (below 5 crores), with a few properties going beyond 10 crores.\n",
        "* Box Plot: The box plot showcases the spread of the data and potential outliers. Properties priced above approximately 10 crores might be considered outliers as they lie beyond the upper whisker of the box plot.\n",
        "\n",
        "Missing values: No missing values"
      ],
      "metadata": {
        "id": "QSLnqUOjzsvf"
      }
    },
    {
      "cell_type": "code",
      "source": [
        "# Skewness and Kurtosis\n",
        "skewness = df['price_in_cr'].skew()\n",
        "kurtosis = df['price_in_cr'].kurt()\n",
        "\n",
        "print(skewness,kurtosis)"
      ],
      "metadata": {
        "colab": {
          "base_uri": "https://localhost:8080/"
        },
        "id": "Stve3Kz8yv5D",
        "outputId": "8e53fa7f-d495-4896-dff9-8e0f3afdb650"
      },
      "execution_count": 25,
      "outputs": [
        {
          "output_type": "stream",
          "name": "stdout",
          "text": [
            "3.301784044839391 15.181984578027924\n"
          ]
        }
      ]
    },
    {
      "cell_type": "markdown",
      "source": [
        "**Observations:**\n",
        "Skewness: The price distribution has a skewness of approximately 3.30, indicating a positive skew. This means that the distribution tail is skewed to the right, which aligns with our observation from the histogram where most properties have prices on the lower end with a few high-priced properties.\n",
        "\n",
        "Kurtosis: The kurtosis value is approximately 15.18. A kurtosis value greater than 3 indicates a distribution with heavier tails and more outliers compared to a normal distribution."
      ],
      "metadata": {
        "id": "sOVFIhEzHa9G"
      }
    },
    {
      "cell_type": "code",
      "source": [
        "# Quantile Analysis\n",
        "quantiles = df['price_in_cr'].quantile([0.01, 0.05, 0.95, 0.99])\n",
        "\n",
        "quantiles"
      ],
      "metadata": {
        "colab": {
          "base_uri": "https://localhost:8080/"
        },
        "id": "shkzwM6t7TaI",
        "outputId": "c09068df-7fb6-4d1e-a71d-25b67119eb05"
      },
      "execution_count": 26,
      "outputs": [
        {
          "output_type": "execute_result",
          "data": {
            "text/plain": [
              "0.01     0.250\n",
              "0.05     0.370\n",
              "0.95     8.490\n",
              "0.99    15.089\n",
              "Name: price_in_cr, dtype: float64"
            ]
          },
          "metadata": {},
          "execution_count": 26
        }
      ]
    },
    {
      "cell_type": "markdown",
      "source": [
        "**Obsevations**\n",
        "* 1% property have price below 0.25cr\n",
        "* 5% property have price below 0.37cr\n",
        "* 95% property have price below 8.49cr\n",
        "* 99% property have price below 15.089cr"
      ],
      "metadata": {
        "id": "vFy4TAvm7YEJ"
      }
    },
    {
      "cell_type": "code",
      "source": [
        "Q1=df['price_in_cr'].describe()['25%']\n",
        "Q3=df['price_in_cr'].describe()['75%']\n",
        "IQR=Q3-Q1\n",
        "lower_bound=IQR-IQR*1.5\n",
        "upper_bound=IQR+IQR*1.5\n",
        "print(lower_bound, upper_bound)"
      ],
      "metadata": {
        "colab": {
          "base_uri": "https://localhost:8080/"
        },
        "id": "oQX6Os1n-5pT",
        "outputId": "0cc082ed-65a6-434c-b643-f6f5cac8728c"
      },
      "execution_count": 27,
      "outputs": [
        {
          "output_type": "stream",
          "name": "stdout",
          "text": [
            "-0.8900000000000001 4.450000000000001\n"
          ]
        }
      ]
    },
    {
      "cell_type": "code",
      "source": [
        "outliers_df=df[(df['price_in_cr']<lower_bound) | (df['price_in_cr']>upper_bound)]"
      ],
      "metadata": {
        "id": "hYD0qRWb_yP5"
      },
      "execution_count": 28,
      "outputs": []
    },
    {
      "cell_type": "code",
      "source": [
        "outliers_df.shape"
      ],
      "metadata": {
        "colab": {
          "base_uri": "https://localhost:8080/"
        },
        "id": "3mxSDnfpANZo",
        "outputId": "d5b4e497-ba3b-413e-9418-235da270f2c6"
      },
      "execution_count": 29,
      "outputs": [
        {
          "output_type": "execute_result",
          "data": {
            "text/plain": [
              "(547, 23)"
            ]
          },
          "metadata": {},
          "execution_count": 29
        }
      ]
    },
    {
      "cell_type": "code",
      "source": [
        "outliers_df['price_in_cr'].describe()"
      ],
      "metadata": {
        "colab": {
          "base_uri": "https://localhost:8080/"
        },
        "id": "azP_MbgiBbub",
        "outputId": "dc84efc3-f32a-487b-d65e-de601221e263"
      },
      "execution_count": 30,
      "outputs": [
        {
          "output_type": "execute_result",
          "data": {
            "text/plain": [
              "count    547.000000\n",
              "mean       8.305576\n",
              "std        4.019635\n",
              "min        4.490000\n",
              "25%        5.555000\n",
              "50%        7.000000\n",
              "75%        9.545000\n",
              "max       31.500000\n",
              "Name: price_in_cr, dtype: float64"
            ]
          },
          "metadata": {},
          "execution_count": 30
        }
      ]
    },
    {
      "cell_type": "markdown",
      "source": [
        "**Observations**\n",
        "* According to IQR method 547 outliers present in pricr_in_cr column\n",
        "* mean of outliers is 8.30cr\n",
        "* std 4.30\n",
        "* minimun value in outliers 4.49cr\n",
        "* maximum value in outliers 31.5cr\n",
        "* upper_bound for outliers is 4.45cr"
      ],
      "metadata": {
        "id": "wjrh5s-KBxMB"
      }
    },
    {
      "cell_type": "code",
      "source": [
        "bins=[0,1,2,3,5,10,20,50]\n",
        "pd.cut(df['price_in_cr'], bins=bins).value_counts().sort_index().plot(kind='bar')"
      ],
      "metadata": {
        "colab": {
          "base_uri": "https://localhost:8080/",
          "height": 488
        },
        "id": "cwctozT5C83-",
        "outputId": "631e6f11-242d-4cf7-f0da-5a134c5e5572"
      },
      "execution_count": 31,
      "outputs": [
        {
          "output_type": "execute_result",
          "data": {
            "text/plain": [
              "<Axes: >"
            ]
          },
          "metadata": {},
          "execution_count": 31
        },
        {
          "output_type": "display_data",
          "data": {
            "text/plain": [
              "<Figure size 640x480 with 1 Axes>"
            ],
            "image/png": "[encoded data removed]"
          },
          "metadata": {}
        }
      ]
    },
    {
      "cell_type": "markdown",
      "source": [
        "**Obsevations**\n",
        "* The majority of the properties have a price between 0 and 3 crores\n",
        "* There is a significant drop in the number of properties priced above 5 cr"
      ],
      "metadata": {
        "id": "Lli2Cb4AGLcb"
      }
    },
    {
      "cell_type": "code",
      "source": [
        "plt.figure(figsize=(15, 6))\n",
        "\n",
        "# Distribution plot without log transformation\n",
        "plt.subplot(1, 2, 1)\n",
        "sns.histplot(df['price_in_cr'], kde=True, bins=50, color='skyblue')\n",
        "plt.title('Distribution of Prices (Original)')\n",
        "plt.xlabel('Price (in Crores)')\n",
        "plt.ylabel('Frequency')\n",
        "\n",
        "# Distribution plot with log transformation\n",
        "plt.subplot(1, 2, 2)\n",
        "sns.histplot(np.log1p(df['price_in_cr']), kde=True, bins=50, color='lightgreen')\n",
        "plt.title('Distribution of Prices (Log Transformed)')\n",
        "plt.xlabel('Log(Price)')\n",
        "plt.ylabel('Frequency')\n",
        "\n",
        "plt.tight_layout()\n",
        "plt.show()"
      ],
      "metadata": {
        "colab": {
          "base_uri": "https://localhost:8080/",
          "height": 458
        },
        "id": "S9vXDxsxJ5hJ",
        "outputId": "3b0729cf-d67a-441a-d379-2febcb94d6e0"
      },
      "execution_count": 32,
      "outputs": [
        {
          "output_type": "display_data",
          "data": {
            "text/plain": [
              "<Figure size 1500x600 with 2 Axes>"
            ],
            "image/png": "[encoded data removed]"
          },
          "metadata": {}
        }
      ]
    },
    {
      "cell_type": "code",
      "source": [
        "skewness = np.log1p(df['price_in_cr']).skew()\n",
        "kurtosis = np.log1p(df['price_in_cr']).kurt()\n",
        "\n",
        "print(skewness,kurtosis)"
      ],
      "metadata": {
        "colab": {
          "base_uri": "https://localhost:8080/"
        },
        "id": "aqsDmlvmKgei",
        "outputId": "5d980aba-bf88-4151-9717-40457171a3b1"
      },
      "execution_count": 33,
      "outputs": [
        {
          "output_type": "stream",
          "name": "stdout",
          "text": [
            "1.0740250038093975 0.9751631867068009\n"
          ]
        }
      ]
    },
    {
      "cell_type": "code",
      "source": [
        "plt.figure(figsize=(15, 6))\n",
        "\n",
        "# Distribution plot without log transformation\n",
        "plt.subplot(1, 2, 1)\n",
        "sns.boxplot(df['price_in_cr'], color='skyblue')\n",
        "plt.title('Distribution of Prices (Original)')\n",
        "plt.xlabel('Price (in Crores)')\n",
        "plt.ylabel('Frequency')\n",
        "\n",
        "# Distribution plot with log transformation\n",
        "plt.subplot(1, 2, 2)\n",
        "sns.boxplot(np.log1p(df['price_in_cr']), color='lightgreen')\n",
        "plt.title('Distribution of Prices (Log Transformed)')\n",
        "plt.xlabel('Log(Price)')\n",
        "plt.ylabel('Frequency')\n",
        "\n",
        "plt.tight_layout()\n",
        "plt.show()"
      ],
      "metadata": {
        "colab": {
          "base_uri": "https://localhost:8080/",
          "height": 458
        },
        "id": "a9--u35vKn3U",
        "outputId": "51241842-a2d0-4940-dd5c-987747835ccd"
      },
      "execution_count": 34,
      "outputs": [
        {
          "output_type": "display_data",
          "data": {
            "text/plain": [
              "<Figure size 1500x600 with 2 Axes>"
            ],
            "image/png": "[encoded data removed]"
          },
          "metadata": {}
        }
      ]
    },
    {
      "cell_type": "markdown",
      "source": [
        "**Observations**\n",
        "* After using log(1+p) transformation we handel the outliers little bit.\n",
        "* The shape of the curve is also improved"
      ],
      "metadata": {
        "id": "RzQDlMHDKy4S"
      }
    },
    {
      "cell_type": "markdown",
      "source": [
        "**PRICE_PER_SQ.FT**\n"
      ],
      "metadata": {
        "id": "qUyMKihS15QM"
      }
    },
    {
      "cell_type": "code",
      "source": [
        "df['price_per_sq.ft'].isnull().sum()"
      ],
      "metadata": {
        "colab": {
          "base_uri": "https://localhost:8080/"
        },
        "id": "52wjGXAoywCy",
        "outputId": "65a01995-109f-4acc-9aed-f28619a0d69a"
      },
      "execution_count": 35,
      "outputs": [
        {
          "output_type": "execute_result",
          "data": {
            "text/plain": [
              "0"
            ]
          },
          "metadata": {},
          "execution_count": 35
        }
      ]
    },
    {
      "cell_type": "code",
      "source": [
        "df['price_per_sq.ft'].describe()"
      ],
      "metadata": {
        "colab": {
          "base_uri": "https://localhost:8080/"
        },
        "id": "GXllUUJcywAa",
        "outputId": "d392aa04-c941-43c3-b8d8-4eff27aa1145"
      },
      "execution_count": 36,
      "outputs": [
        {
          "output_type": "execute_result",
          "data": {
            "text/plain": [
              "count      3812.000000\n",
              "mean      14006.986097\n",
              "std       23345.195014\n",
              "min           2.000000\n",
              "25%        6805.000000\n",
              "50%        9011.000000\n",
              "75%       13871.250000\n",
              "max      600000.000000\n",
              "Name: price_per_sq.ft, dtype: float64"
            ]
          },
          "metadata": {},
          "execution_count": 36
        }
      ]
    },
    {
      "cell_type": "code",
      "source": [
        "sns.histplot(df['price_per_sq.ft'], kde=True, bins=50, color='lightgreen')"
      ],
      "metadata": {
        "colab": {
          "base_uri": "https://localhost:8080/",
          "height": 467
        },
        "id": "1n04xLDBM_rz",
        "outputId": "3f4c44a3-f06b-4da5-8daf-6fa60402c0a0"
      },
      "execution_count": 37,
      "outputs": [
        {
          "output_type": "execute_result",
          "data": {
            "text/plain": [
              "<Axes: xlabel='price_per_sq.ft', ylabel='Count'>"
            ]
          },
          "metadata": {},
          "execution_count": 37
        },
        {
          "output_type": "display_data",
          "data": {
            "text/plain": [
              "<Figure size 640x480 with 1 Axes>"
            ],
            "image/png": "[encoded data removed]"
          },
          "metadata": {}
        }
      ]
    },
    {
      "cell_type": "code",
      "source": [
        "sns.boxplot(df['price_per_sq.ft'], color='lightgreen')\n",
        "plt.grid()"
      ],
      "metadata": {
        "colab": {
          "base_uri": "https://localhost:8080/",
          "height": 430
        },
        "id": "sd4T1ftKNpSd",
        "outputId": "d48b5163-c31a-4db4-ac2c-79dd4a94f285"
      },
      "execution_count": 38,
      "outputs": [
        {
          "output_type": "display_data",
          "data": {
            "text/plain": [
              "<Figure size 640x480 with 1 Axes>"
            ],
            "image/png": "[encoded data removed]"
          },
          "metadata": {}
        }
      ]
    },
    {
      "cell_type": "markdown",
      "source": [
        "**Observations**\n",
        "* Mean value = ~14006 rupees per sq.ft\n",
        "* std = ~23345\n",
        "* Min price_per_sq.ft = 2 rupees per sq.ft\n",
        "* Median = ~9011 rupees per_sq.ft\n",
        "* Max price_per_sq.ft = 600000\n",
        "* NO missing values\n",
        "* A significant number of outliers according to the box plot\n",
        "* Distribution of Price_per_sq.ft is right skewed\n"
      ],
      "metadata": {
        "id": "S-VYMo-4N6dV"
      }
    },
    {
      "cell_type": "code",
      "source": [
        "df.columns"
      ],
      "metadata": {
        "colab": {
          "base_uri": "https://localhost:8080/"
        },
        "id": "7ThgGJ1JM_h3",
        "outputId": "ff17a808-b969-4a6c-f6f4-364cb4354d9a"
      },
      "execution_count": 39,
      "outputs": [
        {
          "output_type": "execute_result",
          "data": {
            "text/plain": [
              "Index(['property_type', 'society', 'sector', 'price_in_cr', 'price_per_sq.ft',\n",
              "       'total_area', 'areaWithType', 'bedrooms', 'bathrooms', 'balconies',\n",
              "       'floorNum', 'facing', 'agePossession', 'super_built_up_area',\n",
              "       'built_up_area', 'carpet_area', 'study_room', 'servant_room',\n",
              "       'store_room', 'pooja_room', 'others', 'furnishing_type',\n",
              "       'luxury_score'],\n",
              "      dtype='object')"
            ]
          },
          "metadata": {},
          "execution_count": 39
        }
      ]
    },
    {
      "cell_type": "markdown",
      "source": [
        "**BEDROOMS**"
      ],
      "metadata": {
        "id": "HFkNp3v5e6pn"
      }
    },
    {
      "cell_type": "code",
      "source": [
        "df['bedrooms'].isnull().sum()"
      ],
      "metadata": {
        "colab": {
          "base_uri": "https://localhost:8080/"
        },
        "id": "o0JWE3pIesjW",
        "outputId": "f30392a4-de49-4c2b-95f5-419f340a2b04"
      },
      "execution_count": 40,
      "outputs": [
        {
          "output_type": "execute_result",
          "data": {
            "text/plain": [
              "0"
            ]
          },
          "metadata": {},
          "execution_count": 40
        }
      ]
    },
    {
      "cell_type": "code",
      "source": [
        "df['bedrooms'].value_counts().sort_index().plot(kind='bar')"
      ],
      "metadata": {
        "colab": {
          "base_uri": "https://localhost:8080/",
          "height": 454
        },
        "id": "CEFSqOTZfoSs",
        "outputId": "29da81c7-1377-43ca-e01d-a845f3c96746"
      },
      "execution_count": 41,
      "outputs": [
        {
          "output_type": "execute_result",
          "data": {
            "text/plain": [
              "<Axes: >"
            ]
          },
          "metadata": {},
          "execution_count": 41
        },
        {
          "output_type": "display_data",
          "data": {
            "text/plain": [
              "<Figure size 640x480 with 1 Axes>"
            ],
            "image/png": "[encoded data removed]"
          },
          "metadata": {}
        }
      ]
    },
    {
      "cell_type": "code",
      "source": [
        "value_counts=df['bedrooms'].value_counts()\n",
        "top5=value_counts.head()\n",
        "other=value_counts[5:].sum()\n",
        "new_series = top5.append(pd.Series([other], index=['Other']))\n",
        "new_series.plot(kind='pie',autopct='%0.2f%%')"
      ],
      "metadata": {
        "colab": {
          "base_uri": "https://localhost:8080/",
          "height": 478
        },
        "id": "0OnsaLQcgLbD",
        "outputId": "12dd4f1e-1eeb-4e27-f891-61784a27a932"
      },
      "execution_count": 42,
      "outputs": [
        {
          "output_type": "stream",
          "name": "stderr",
          "text": [
            "<ipython-input-42-48196c885c0c>:4: FutureWarning: The series.append method is deprecated and will be removed from pandas in a future version. Use pandas.concat instead.\n",
            "  new_series = top5.append(pd.Series([other], index=['Other']))\n"
          ]
        },
        {
          "output_type": "execute_result",
          "data": {
            "text/plain": [
              "<Axes: >"
            ]
          },
          "metadata": {},
          "execution_count": 42
        },
        {
          "output_type": "display_data",
          "data": {
            "text/plain": [
              "<Figure size 640x480 with 1 Axes>"
            ],
            "image/png": "[encoded data removed]"
          },
          "metadata": {}
        }
      ]
    },
    {
      "cell_type": "markdown",
      "source": [
        "**Observations**\n",
        "* 2b,3b and 4b property occupies more than 80% from the total properrties.\n",
        "* No missing value"
      ],
      "metadata": {
        "id": "CnU5GLtOi0KG"
      }
    },
    {
      "cell_type": "code",
      "source": [
        "df['bathrooms'].isnull().sum()"
      ],
      "metadata": {
        "colab": {
          "base_uri": "https://localhost:8080/"
        },
        "id": "vxq6qs78Mrm5",
        "outputId": "0d0cdd87-3b30-49a7-86b8-11ea9dc1bad4"
      },
      "execution_count": 43,
      "outputs": [
        {
          "output_type": "execute_result",
          "data": {
            "text/plain": [
              "0"
            ]
          },
          "metadata": {},
          "execution_count": 43
        }
      ]
    },
    {
      "cell_type": "code",
      "source": [
        "df['bathrooms'].value_counts().sort_index().plot(kind='bar')"
      ],
      "metadata": {
        "colab": {
          "base_uri": "https://localhost:8080/",
          "height": 451
        },
        "id": "Z3y0riYPyv1Q",
        "outputId": "a87c2034-71a7-4f8e-f119-3ef6fa0a0248"
      },
      "execution_count": 44,
      "outputs": [
        {
          "output_type": "execute_result",
          "data": {
            "text/plain": [
              "<Axes: >"
            ]
          },
          "metadata": {},
          "execution_count": 44
        },
        {
          "output_type": "display_data",
          "data": {
            "text/plain": [
              "<Figure size 640x480 with 1 Axes>"
            ],
            "image/png": "[encoded data removed]"
          },
          "metadata": {}
        }
      ]
    },
    {
      "cell_type": "code",
      "source": [
        "df['bathrooms'].describe()"
      ],
      "metadata": {
        "colab": {
          "base_uri": "https://localhost:8080/"
        },
        "id": "4ZfU6HkxPA-Y",
        "outputId": "c8680f9b-a366-4d01-aa7b-e4ec7c26058d"
      },
      "execution_count": 45,
      "outputs": [
        {
          "output_type": "execute_result",
          "data": {
            "text/plain": [
              "count    3812.000000\n",
              "mean        3.416055\n",
              "std         2.053224\n",
              "min         1.000000\n",
              "25%         2.000000\n",
              "50%         3.000000\n",
              "75%         4.000000\n",
              "max        36.000000\n",
              "Name: bathrooms, dtype: float64"
            ]
          },
          "metadata": {},
          "execution_count": 45
        }
      ]
    },
    {
      "cell_type": "code",
      "source": [
        "df.drop(df[df.bathrooms>20].index, inplace=True)"
      ],
      "metadata": {
        "id": "NtiwQwZ-Ltiy"
      },
      "execution_count": 46,
      "outputs": []
    },
    {
      "cell_type": "code",
      "source": [
        "df['bathrooms'].value_counts().sort_index().plot(kind='bar')"
      ],
      "metadata": {
        "colab": {
          "base_uri": "https://localhost:8080/",
          "height": 451
        },
        "id": "7SNaxP1NN_KW",
        "outputId": "4e25e112-a819-4098-ee0e-d05fc364b24b"
      },
      "execution_count": 47,
      "outputs": [
        {
          "output_type": "execute_result",
          "data": {
            "text/plain": [
              "<Axes: >"
            ]
          },
          "metadata": {},
          "execution_count": 47
        },
        {
          "output_type": "display_data",
          "data": {
            "text/plain": [
              "<Figure size 640x480 with 1 Axes>"
            ],
            "image/png": "[encoded data removed]"
          },
          "metadata": {}
        }
      ]
    },
    {
      "cell_type": "code",
      "source": [
        "value_counts=df['bathrooms'].value_counts()\n",
        "top5=value_counts.head()\n",
        "other=value_counts[5:].sum()\n",
        "new_series = top5.append(pd.Series([other], index=['Other']))\n",
        "new_series.plot(kind='pie',autopct='%0.2f%%')"
      ],
      "metadata": {
        "colab": {
          "base_uri": "https://localhost:8080/",
          "height": 478
        },
        "id": "OYHAmVFhOHc1",
        "outputId": "0134ef67-5eb4-455b-af89-64b6055a832e"
      },
      "execution_count": 48,
      "outputs": [
        {
          "output_type": "stream",
          "name": "stderr",
          "text": [
            "<ipython-input-48-596b85709b6a>:4: FutureWarning: The series.append method is deprecated and will be removed from pandas in a future version. Use pandas.concat instead.\n",
            "  new_series = top5.append(pd.Series([other], index=['Other']))\n"
          ]
        },
        {
          "output_type": "execute_result",
          "data": {
            "text/plain": [
              "<Axes: >"
            ]
          },
          "metadata": {},
          "execution_count": 48
        },
        {
          "output_type": "display_data",
          "data": {
            "text/plain": [
              "<Figure size 640x480 with 1 Axes>"
            ],
            "image/png": "[encoded data removed]"
          },
          "metadata": {}
        }
      ]
    },
    {
      "cell_type": "markdown",
      "source": [
        "**Observations:**\n",
        "* No missing value\n",
        "* ~80% of the property have at most 4 bathrooms\n",
        "* ~Max number of bathroom = 20\n",
        "* Median is 3"
      ],
      "metadata": {
        "id": "rwZwiGFIMNgz"
      }
    },
    {
      "cell_type": "markdown",
      "source": [
        "**BALCONIES**"
      ],
      "metadata": {
        "id": "GCZagufKMDxU"
      }
    },
    {
      "cell_type": "code",
      "source": [
        "df['balconies'].isnull().sum()"
      ],
      "metadata": {
        "colab": {
          "base_uri": "https://localhost:8080/"
        },
        "id": "DYw9Xr13X_QD",
        "outputId": "2e8c920d-db2a-4834-87a3-65e2e9852243"
      },
      "execution_count": 49,
      "outputs": [
        {
          "output_type": "execute_result",
          "data": {
            "text/plain": [
              "0"
            ]
          },
          "metadata": {},
          "execution_count": 49
        }
      ]
    },
    {
      "cell_type": "code",
      "source": [
        "df['balconies'].value_counts()"
      ],
      "metadata": {
        "colab": {
          "base_uri": "https://localhost:8080/"
        },
        "id": "qtFgGYYLYNU4",
        "outputId": "72ea6841-cf84-4c7e-c43d-db6d8f61a5d3"
      },
      "execution_count": 50,
      "outputs": [
        {
          "output_type": "execute_result",
          "data": {
            "text/plain": [
              "3+    1183\n",
              "3     1095\n",
              "2      924\n",
              "1      405\n",
              "No     202\n",
              "Name: balconies, dtype: int64"
            ]
          },
          "metadata": {},
          "execution_count": 50
        }
      ]
    },
    {
      "cell_type": "code",
      "source": [
        "df['balconies'].value_counts().plot(kind='bar')"
      ],
      "metadata": {
        "colab": {
          "base_uri": "https://localhost:8080/",
          "height": 453
        },
        "id": "Ccve1rezX_Nx",
        "outputId": "94ad07a9-c9a0-4d21-e28b-386ff4eb85a1"
      },
      "execution_count": 51,
      "outputs": [
        {
          "output_type": "execute_result",
          "data": {
            "text/plain": [
              "<Axes: >"
            ]
          },
          "metadata": {},
          "execution_count": 51
        },
        {
          "output_type": "display_data",
          "data": {
            "text/plain": [
              "<Figure size 640x480 with 1 Axes>"
            ],
            "image/png": "[encoded data removed]"
          },
          "metadata": {}
        }
      ]
    },
    {
      "cell_type": "code",
      "source": [
        "df['balconies'].value_counts().plot(kind='pie', autopct='%0.2f%%')"
      ],
      "metadata": {
        "colab": {
          "base_uri": "https://localhost:8080/",
          "height": 423
        },
        "id": "5_lo0aP0X_Lh",
        "outputId": "2ffc5123-18da-4d67-f7c9-4eb6122edfe6"
      },
      "execution_count": 52,
      "outputs": [
        {
          "output_type": "execute_result",
          "data": {
            "text/plain": [
              "<Axes: ylabel='balconies'>"
            ]
          },
          "metadata": {},
          "execution_count": 52
        },
        {
          "output_type": "display_data",
          "data": {
            "text/plain": [
              "<Figure size 640x480 with 1 Axes>"
            ],
            "image/png": "[encoded data removed]"
          },
          "metadata": {}
        }
      ]
    },
    {
      "cell_type": "markdown",
      "source": [
        "**OBSERCATIONS**\n",
        "* No missing value\n",
        "* ~80% of the property have at most 4 balconies"
      ],
      "metadata": {
        "id": "AZlyt2v1ZSvB"
      }
    },
    {
      "cell_type": "markdown",
      "source": [
        "**FLOORNUM**"
      ],
      "metadata": {
        "id": "UH4WbdpDZz2e"
      }
    },
    {
      "cell_type": "code",
      "source": [
        "df['floorNum'].isnull().sum()"
      ],
      "metadata": {
        "colab": {
          "base_uri": "https://localhost:8080/"
        },
        "id": "y7z91dqxX_Iv",
        "outputId": "e72aa11a-0b29-4bcf-af3f-b6a63ddb5301"
      },
      "execution_count": 53,
      "outputs": [
        {
          "output_type": "execute_result",
          "data": {
            "text/plain": [
              "19"
            ]
          },
          "metadata": {},
          "execution_count": 53
        }
      ]
    },
    {
      "cell_type": "code",
      "source": [
        "df[df['floorNum'].isnull()]"
      ],
      "metadata": {
        "colab": {
          "base_uri": "https://localhost:8080/",
          "height": 1000
        },
        "id": "AZy2m1TjX_Go",
        "outputId": "0885d6df-8641-4980-f905-71269521ced6"
      },
      "execution_count": 54,
      "outputs": [
        {
          "output_type": "execute_result",
          "data": {
            "text/plain": [
              "     property_type                  society      sector  price_in_cr  \\\n",
              "3018         house       vipul tatvam villa   sector 48         8.50   \n",
              "3045         house              independent    sector 2         5.60   \n",
              "3122         house              independent   sector 24         1.45   \n",
              "3171         house              independent    sector 3         1.50   \n",
              "3189         house              independent    sector 3         4.12   \n",
              "3200         house              independent  sector 110         2.50   \n",
              "3259         house              independent    sector 3         0.65   \n",
              "3282         house  ansal sushant lok plots   sector 43         3.30   \n",
              "3301         house              independent    sector 9         1.10   \n",
              "3438         house               jacob pura   sector 12         0.35   \n",
              "3471         house              independent   sector 25        13.00   \n",
              "3541         house              independent    sector 7         6.50   \n",
              "3583         house              independent   sector 46         6.81   \n",
              "3691         house     dlf new town heights   sector 86         2.47   \n",
              "3712         house       vipul tatvam villa   sector 48         8.50   \n",
              "3719         house        ansal sushant lok   sector 43        10.50   \n",
              "3722         house              independent   sector 26         4.60   \n",
              "3855         house       emaar mgf marbella   sector 66         9.00   \n",
              "3868         house           uppal southend   sector 49         6.75   \n",
              "\n",
              "      price_per_sq.ft  total_area  \\\n",
              "3018          26235.0      3240.0   \n",
              "3045          17284.0      3240.0   \n",
              "3122          26852.0       540.0   \n",
              "3171          10288.0      1458.0   \n",
              "3189           8889.0      4635.0   \n",
              "3200           5472.0      4569.0   \n",
              "3259          11111.0       585.0   \n",
              "3282          26570.0      1242.0   \n",
              "3301          73333.0       150.0   \n",
              "3438           9722.0       360.0   \n",
              "3471          45710.0      2844.0   \n",
              "3541          15046.0      4320.0   \n",
              "3583          36911.0      1845.0   \n",
              "3691           7718.0      3200.0   \n",
              "3712          26235.0      3240.0   \n",
              "3719          27911.0      3762.0   \n",
              "3722          12198.0      3771.0   \n",
              "3855          21251.0      4235.0   \n",
              "3868         290948.0       232.0   \n",
              "\n",
              "                                           areaWithType  bedrooms  bathrooms  \\\n",
              "3018                        Plot area 360(301.01 sq.m.)         4          4   \n",
              "3045                        Plot area 360(301.01 sq.m.)         8          6   \n",
              "3122                          Plot area 60(50.17 sq.m.)         3          3   \n",
              "3171  Plot area 162(135.45 sq.m.)Built Up area: 210 ...         3          3   \n",
              "3189                        Plot area 515(430.61 sq.m.)         2          1   \n",
              "3200                       Plot area 4000(371.61 sq.m.)         3          2   \n",
              "3259                          Plot area 65(54.35 sq.m.)         4          2   \n",
              "3282                        Plot area 138(115.39 sq.m.)         1          1   \n",
              "3301                         Plot area 150(13.94 sq.m.)         2          2   \n",
              "3438                   Built Up area: 360 (33.45 sq.m.)         2          1   \n",
              "3471                        Plot area 316(264.22 sq.m.)         6          8   \n",
              "3541                        Plot area 480(401.34 sq.m.)         3          2   \n",
              "3583                        Plot area 205(171.41 sq.m.)        12         14   \n",
              "3691  Plot area 3200(297.29 sq.m.)Built Up area: 280...         4          4   \n",
              "3712                        Plot area 360(301.01 sq.m.)         4          4   \n",
              "3719                         Plot area 418(349.5 sq.m.)         4          4   \n",
              "3722                        Plot area 419(350.34 sq.m.)         4          4   \n",
              "3855  Plot area 5605(520.72 sq.m.)Built Up area: 520...         4          4   \n",
              "3868                         Plot area 232(21.55 sq.m.)        12         12   \n",
              "\n",
              "     balconies  floorNum      facing       agePossession  super_built_up_area  \\\n",
              "3018         2       NaN        East      Moderately Old                  NaN   \n",
              "3045        3+       NaN  South-West      Moderately Old                  NaN   \n",
              "3122         1       NaN         NaN        Old Property                  NaN   \n",
              "3171        No       NaN         NaN        Old Property                  NaN   \n",
              "3189        3+       NaN         NaN      Moderately Old                  NaN   \n",
              "3200         1       NaN         NaN        Old Property                  NaN   \n",
              "3259         2       NaN         NaN      Moderately Old                  NaN   \n",
              "3282        No       NaN         NaN  Under Construction                  NaN   \n",
              "3301         1       NaN         NaN        Old Property                  NaN   \n",
              "3438        No       NaN         NaN        Old Property                  NaN   \n",
              "3471        3+       NaN         NaN      Relatively New                  NaN   \n",
              "3541        3+       NaN         NaN        Old Property                  NaN   \n",
              "3583        3+       NaN        East        New Property                  NaN   \n",
              "3691        3+       NaN        West      Moderately Old                  NaN   \n",
              "3712         1       NaN         NaN      Relatively New                  NaN   \n",
              "3719         2       NaN  North-East        Old Property                  NaN   \n",
              "3722        3+       NaN         NaN        Old Property                  NaN   \n",
              "3855        3+       NaN  South-West      Relatively New                  NaN   \n",
              "3868        3+       NaN        West      Moderately Old                  NaN   \n",
              "\n",
              "      built_up_area  carpet_area  study_room  servant_room  store_room  \\\n",
              "3018         3240.0          NaN           0             1           1   \n",
              "3045         3240.0          NaN           1             1           1   \n",
              "3122          540.0          NaN           0             0           0   \n",
              "3171          210.0          NaN           0             0           0   \n",
              "3189         4635.0          NaN           0             0           0   \n",
              "3200         4000.0          NaN           0             0           0   \n",
              "3259          585.0          NaN           0             0           0   \n",
              "3282         1242.0          NaN           0             0           0   \n",
              "3301          150.0          NaN           0             0           0   \n",
              "3438          360.0          NaN           0             0           0   \n",
              "3471         2844.0          NaN           1             1           1   \n",
              "3541         4320.0          NaN           0             0           0   \n",
              "3583         1845.0          NaN           0             1           0   \n",
              "3691         2800.0       2200.0           0             1           0   \n",
              "3712         3240.0          NaN           0             0           0   \n",
              "3719         3762.0          NaN           0             1           0   \n",
              "3722         3771.0          NaN           0             0           0   \n",
              "3855         5200.0       4235.0           0             1           1   \n",
              "3868          232.0          NaN           1             1           0   \n",
              "\n",
              "      pooja_room  others  furnishing_type  luxury_score  \n",
              "3018           1       0                0            88  \n",
              "3045           1       0                0             0  \n",
              "3122           0       0                0             9  \n",
              "3171           0       0                0             0  \n",
              "3189           0       0                0             0  \n",
              "3200           0       0                0             8  \n",
              "3259           0       0                0             0  \n",
              "3282           0       0                0             0  \n",
              "3301           0       1                0             0  \n",
              "3438           0       0                0             0  \n",
              "3471           1       0                2             0  \n",
              "3541           0       0                0             9  \n",
              "3583           0       1                1            40  \n",
              "3691           1       0                1           130  \n",
              "3712           0       0                0            21  \n",
              "3719           0       0                0            59  \n",
              "3722           0       0                0            28  \n",
              "3855           1       0                1           114  \n",
              "3868           1       1                1            49  "
            ],
            "text/html": [
              "\n",
              "  <div id=\"df-54875422-902d-4d02-99c3-ca156e982c3e\" class=\"colab-df-container\">\n",
              "    <div>\n",
              "<style scoped>\n",
              "    .dataframe tbody tr th:only-of-type {\n",
              "        vertical-align: middle;\n",
              "    }\n",
              "\n",
              "    .dataframe tbody tr th {\n",
              "        vertical-align: top;\n",
              "    }\n",
              "\n",
              "    .dataframe thead th {\n",
              "        text-align: right;\n",
              "    }\n",
              "</style>\n",
              "<table border=\"1\" class=\"dataframe\">\n",
              "  <thead>\n",
              "    <tr style=\"text-align: right;\">\n",
              "      <th></th>\n",
              "      <th>property_type</th>\n",
              "      <th>society</th>\n",
              "      <th>sector</th>\n",
              "      <th>price_in_cr</th>\n",
              "      <th>price_per_sq.ft</th>\n",
              "      <th>total_area</th>\n",
              "      <th>areaWithType</th>\n",
              "      <th>bedrooms</th>\n",
              "      <th>bathrooms</th>\n",
              "      <th>balconies</th>\n",
              "      <th>floorNum</th>\n",
              "      <th>facing</th>\n",
              "      <th>agePossession</th>\n",
              "      <th>super_built_up_area</th>\n",
              "      <th>built_up_area</th>\n",
              "      <th>carpet_area</th>\n",
              "      <th>study_room</th>\n",
              "      <th>servant_room</th>\n",
              "      <th>store_room</th>\n",
              "      <th>pooja_room</th>\n",
              "      <th>others</th>\n",
              "      <th>furnishing_type</th>\n",
              "      <th>luxury_score</th>\n",
              "    </tr>\n",
              "  </thead>\n",
              "  <tbody>\n",
              "    <tr>\n",
              "      <th>3018</th>\n",
              "      <td>house</td>\n",
              "      <td>vipul tatvam villa</td>\n",
              "      <td>sector 48</td>\n",
              "      <td>8.50</td>\n",
              "      <td>26235.0</td>\n",
              "      <td>3240.0</td>\n",
              "      <td>Plot area 360(301.01 sq.m.)</td>\n",
              "      <td>4</td>\n",
              "      <td>4</td>\n",
              "      <td>2</td>\n",
              "      <td>NaN</td>\n",
              "      <td>East</td>\n",
              "      <td>Moderately Old</td>\n",
              "      <td>NaN</td>\n",
              "      <td>3240.0</td>\n",
              "      <td>NaN</td>\n",
              "      <td>0</td>\n",
              "      <td>1</td>\n",
              "      <td>1</td>\n",
              "      <td>1</td>\n",
              "      <td>0</td>\n",
              "      <td>0</td>\n",
              "      <td>88</td>\n",
              "    </tr>\n",
              "    <tr>\n",
              "      <th>3045</th>\n",
              "      <td>house</td>\n",
              "      <td>independent</td>\n",
              "      <td>sector 2</td>\n",
              "      <td>5.60</td>\n",
              "      <td>17284.0</td>\n",
              "      <td>3240.0</td>\n",
              "      <td>Plot area 360(301.01 sq.m.)</td>\n",
              "      <td>8</td>\n",
              "      <td>6</td>\n",
              "      <td>3+</td>\n",
              "      <td>NaN</td>\n",
              "      <td>South-West</td>\n",
              "      <td>Moderately Old</td>\n",
              "      <td>NaN</td>\n",
              "      <td>3240.0</td>\n",
              "      <td>NaN</td>\n",
              "      <td>1</td>\n",
              "      <td>1</td>\n",
              "      <td>1</td>\n",
              "      <td>1</td>\n",
              "      <td>0</td>\n",
              "      <td>0</td>\n",
              "      <td>0</td>\n",
              "    </tr>\n",
              "    <tr>\n",
              "      <th>3122</th>\n",
              "      <td>house</td>\n",
              "      <td>independent</td>\n",
              "      <td>sector 24</td>\n",
              "      <td>1.45</td>\n",
              "      <td>26852.0</td>\n",
              "      <td>540.0</td>\n",
              "      <td>Plot area 60(50.17 sq.m.)</td>\n",
              "      <td>3</td>\n",
              "      <td>3</td>\n",
              "      <td>1</td>\n",
              "      <td>NaN</td>\n",
              "      <td>NaN</td>\n",
              "      <td>Old Property</td>\n",
              "      <td>NaN</td>\n",
              "      <td>540.0</td>\n",
              "      <td>NaN</td>\n",
              "      <td>0</td>\n",
              "      <td>0</td>\n",
              "      <td>0</td>\n",
              "      <td>0</td>\n",
              "      <td>0</td>\n",
              "      <td>0</td>\n",
              "      <td>9</td>\n",
              "    </tr>\n",
              "    <tr>\n",
              "      <th>3171</th>\n",
              "      <td>house</td>\n",
              "      <td>independent</td>\n",
              "      <td>sector 3</td>\n",
              "      <td>1.50</td>\n",
              "      <td>10288.0</td>\n",
              "      <td>1458.0</td>\n",
              "      <td>Plot area 162(135.45 sq.m.)Built Up area: 210 ...</td>\n",
              "      <td>3</td>\n",
              "      <td>3</td>\n",
              "      <td>No</td>\n",
              "      <td>NaN</td>\n",
              "      <td>NaN</td>\n",
              "      <td>Old Property</td>\n",
              "      <td>NaN</td>\n",
              "      <td>210.0</td>\n",
              "      <td>NaN</td>\n",
              "      <td>0</td>\n",
              "      <td>0</td>\n",
              "      <td>0</td>\n",
              "      <td>0</td>\n",
              "      <td>0</td>\n",
              "      <td>0</td>\n",
              "      <td>0</td>\n",
              "    </tr>\n",
              "    <tr>\n",
              "      <th>3189</th>\n",
              "      <td>house</td>\n",
              "      <td>independent</td>\n",
              "      <td>sector 3</td>\n",
              "      <td>4.12</td>\n",
              "      <td>8889.0</td>\n",
              "      <td>4635.0</td>\n",
              "      <td>Plot area 515(430.61 sq.m.)</td>\n",
              "      <td>2</td>\n",
              "      <td>1</td>\n",
              "      <td>3+</td>\n",
              "      <td>NaN</td>\n",
              "      <td>NaN</td>\n",
              "      <td>Moderately Old</td>\n",
              "      <td>NaN</td>\n",
              "      <td>4635.0</td>\n",
              "      <td>NaN</td>\n",
              "      <td>0</td>\n",
              "      <td>0</td>\n",
              "      <td>0</td>\n",
              "      <td>0</td>\n",
              "      <td>0</td>\n",
              "      <td>0</td>\n",
              "      <td>0</td>\n",
              "    </tr>\n",
              "    <tr>\n",
              "      <th>3200</th>\n",
              "      <td>house</td>\n",
              "      <td>independent</td>\n",
              "      <td>sector 110</td>\n",
              "      <td>2.50</td>\n",
              "      <td>5472.0</td>\n",
              "      <td>4569.0</td>\n",
              "      <td>Plot area 4000(371.61 sq.m.)</td>\n",
              "      <td>3</td>\n",
              "      <td>2</td>\n",
              "      <td>1</td>\n",
              "      <td>NaN</td>\n",
              "      <td>NaN</td>\n",
              "      <td>Old Property</td>\n",
              "      <td>NaN</td>\n",
              "      <td>4000.0</td>\n",
              "      <td>NaN</td>\n",
              "      <td>0</td>\n",
              "      <td>0</td>\n",
              "      <td>0</td>\n",
              "      <td>0</td>\n",
              "      <td>0</td>\n",
              "      <td>0</td>\n",
              "      <td>8</td>\n",
              "    </tr>\n",
              "    <tr>\n",
              "      <th>3259</th>\n",
              "      <td>house</td>\n",
              "      <td>independent</td>\n",
              "      <td>sector 3</td>\n",
              "      <td>0.65</td>\n",
              "      <td>11111.0</td>\n",
              "      <td>585.0</td>\n",
              "      <td>Plot area 65(54.35 sq.m.)</td>\n",
              "      <td>4</td>\n",
              "      <td>2</td>\n",
              "      <td>2</td>\n",
              "      <td>NaN</td>\n",
              "      <td>NaN</td>\n",
              "      <td>Moderately Old</td>\n",
              "      <td>NaN</td>\n",
              "      <td>585.0</td>\n",
              "      <td>NaN</td>\n",
              "      <td>0</td>\n",
              "      <td>0</td>\n",
              "      <td>0</td>\n",
              "      <td>0</td>\n",
              "      <td>0</td>\n",
              "      <td>0</td>\n",
              "      <td>0</td>\n",
              "    </tr>\n",
              "    <tr>\n",
              "      <th>3282</th>\n",
              "      <td>house</td>\n",
              "      <td>ansal sushant lok plots</td>\n",
              "      <td>sector 43</td>\n",
              "      <td>3.30</td>\n",
              "      <td>26570.0</td>\n",
              "      <td>1242.0</td>\n",
              "      <td>Plot area 138(115.39 sq.m.)</td>\n",
              "      <td>1</td>\n",
              "      <td>1</td>\n",
              "      <td>No</td>\n",
              "      <td>NaN</td>\n",
              "      <td>NaN</td>\n",
              "      <td>Under Construction</td>\n",
              "      <td>NaN</td>\n",
              "      <td>1242.0</td>\n",
              "      <td>NaN</td>\n",
              "      <td>0</td>\n",
              "      <td>0</td>\n",
              "      <td>0</td>\n",
              "      <td>0</td>\n",
              "      <td>0</td>\n",
              "      <td>0</td>\n",
              "      <td>0</td>\n",
              "    </tr>\n",
              "    <tr>\n",
              "      <th>3301</th>\n",
              "      <td>house</td>\n",
              "      <td>independent</td>\n",
              "      <td>sector 9</td>\n",
              "      <td>1.10</td>\n",
              "      <td>73333.0</td>\n",
              "      <td>150.0</td>\n",
              "      <td>Plot area 150(13.94 sq.m.)</td>\n",
              "      <td>2</td>\n",
              "      <td>2</td>\n",
              "      <td>1</td>\n",
              "      <td>NaN</td>\n",
              "      <td>NaN</td>\n",
              "      <td>Old Property</td>\n",
              "      <td>NaN</td>\n",
              "      <td>150.0</td>\n",
              "      <td>NaN</td>\n",
              "      <td>0</td>\n",
              "      <td>0</td>\n",
              "      <td>0</td>\n",
              "      <td>0</td>\n",
              "      <td>1</td>\n",
              "      <td>0</td>\n",
              "      <td>0</td>\n",
              "    </tr>\n",
              "    <tr>\n",
              "      <th>3438</th>\n",
              "      <td>house</td>\n",
              "      <td>jacob pura</td>\n",
              "      <td>sector 12</td>\n",
              "      <td>0.35</td>\n",
              "      <td>9722.0</td>\n",
              "      <td>360.0</td>\n",
              "      <td>Built Up area: 360 (33.45 sq.m.)</td>\n",
              "      <td>2</td>\n",
              "      <td>1</td>\n",
              "      <td>No</td>\n",
              "      <td>NaN</td>\n",
              "      <td>NaN</td>\n",
              "      <td>Old Property</td>\n",
              "      <td>NaN</td>\n",
              "      <td>360.0</td>\n",
              "      <td>NaN</td>\n",
              "      <td>0</td>\n",
              "      <td>0</td>\n",
              "      <td>0</td>\n",
              "      <td>0</td>\n",
              "      <td>0</td>\n",
              "      <td>0</td>\n",
              "      <td>0</td>\n",
              "    </tr>\n",
              "    <tr>\n",
              "      <th>3471</th>\n",
              "      <td>house</td>\n",
              "      <td>independent</td>\n",
              "      <td>sector 25</td>\n",
              "      <td>13.00</td>\n",
              "      <td>45710.0</td>\n",
              "      <td>2844.0</td>\n",
              "      <td>Plot area 316(264.22 sq.m.)</td>\n",
              "      <td>6</td>\n",
              "      <td>8</td>\n",
              "      <td>3+</td>\n",
              "      <td>NaN</td>\n",
              "      <td>NaN</td>\n",
              "      <td>Relatively New</td>\n",
              "      <td>NaN</td>\n",
              "      <td>2844.0</td>\n",
              "      <td>NaN</td>\n",
              "      <td>1</td>\n",
              "      <td>1</td>\n",
              "      <td>1</td>\n",
              "      <td>1</td>\n",
              "      <td>0</td>\n",
              "      <td>2</td>\n",
              "      <td>0</td>\n",
              "    </tr>\n",
              "    <tr>\n",
              "      <th>3541</th>\n",
              "      <td>house</td>\n",
              "      <td>independent</td>\n",
              "      <td>sector 7</td>\n",
              "      <td>6.50</td>\n",
              "      <td>15046.0</td>\n",
              "      <td>4320.0</td>\n",
              "      <td>Plot area 480(401.34 sq.m.)</td>\n",
              "      <td>3</td>\n",
              "      <td>2</td>\n",
              "      <td>3+</td>\n",
              "      <td>NaN</td>\n",
              "      <td>NaN</td>\n",
              "      <td>Old Property</td>\n",
              "      <td>NaN</td>\n",
              "      <td>4320.0</td>\n",
              "      <td>NaN</td>\n",
              "      <td>0</td>\n",
              "      <td>0</td>\n",
              "      <td>0</td>\n",
              "      <td>0</td>\n",
              "      <td>0</td>\n",
              "      <td>0</td>\n",
              "      <td>9</td>\n",
              "    </tr>\n",
              "    <tr>\n",
              "      <th>3583</th>\n",
              "      <td>house</td>\n",
              "      <td>independent</td>\n",
              "      <td>sector 46</td>\n",
              "      <td>6.81</td>\n",
              "      <td>36911.0</td>\n",
              "      <td>1845.0</td>\n",
              "      <td>Plot area 205(171.41 sq.m.)</td>\n",
              "      <td>12</td>\n",
              "      <td>14</td>\n",
              "      <td>3+</td>\n",
              "      <td>NaN</td>\n",
              "      <td>East</td>\n",
              "      <td>New Property</td>\n",
              "      <td>NaN</td>\n",
              "      <td>1845.0</td>\n",
              "      <td>NaN</td>\n",
              "      <td>0</td>\n",
              "      <td>1</td>\n",
              "      <td>0</td>\n",
              "      <td>0</td>\n",
              "      <td>1</td>\n",
              "      <td>1</td>\n",
              "      <td>40</td>\n",
              "    </tr>\n",
              "    <tr>\n",
              "      <th>3691</th>\n",
              "      <td>house</td>\n",
              "      <td>dlf new town heights</td>\n",
              "      <td>sector 86</td>\n",
              "      <td>2.47</td>\n",
              "      <td>7718.0</td>\n",
              "      <td>3200.0</td>\n",
              "      <td>Plot area 3200(297.29 sq.m.)Built Up area: 280...</td>\n",
              "      <td>4</td>\n",
              "      <td>4</td>\n",
              "      <td>3+</td>\n",
              "      <td>NaN</td>\n",
              "      <td>West</td>\n",
              "      <td>Moderately Old</td>\n",
              "      <td>NaN</td>\n",
              "      <td>2800.0</td>\n",
              "      <td>2200.0</td>\n",
              "      <td>0</td>\n",
              "      <td>1</td>\n",
              "      <td>0</td>\n",
              "      <td>1</td>\n",
              "      <td>0</td>\n",
              "      <td>1</td>\n",
              "      <td>130</td>\n",
              "    </tr>\n",
              "    <tr>\n",
              "      <th>3712</th>\n",
              "      <td>house</td>\n",
              "      <td>vipul tatvam villa</td>\n",
              "      <td>sector 48</td>\n",
              "      <td>8.50</td>\n",
              "      <td>26235.0</td>\n",
              "      <td>3240.0</td>\n",
              "      <td>Plot area 360(301.01 sq.m.)</td>\n",
              "      <td>4</td>\n",
              "      <td>4</td>\n",
              "      <td>1</td>\n",
              "      <td>NaN</td>\n",
              "      <td>NaN</td>\n",
              "      <td>Relatively New</td>\n",
              "      <td>NaN</td>\n",
              "      <td>3240.0</td>\n",
              "      <td>NaN</td>\n",
              "      <td>0</td>\n",
              "      <td>0</td>\n",
              "      <td>0</td>\n",
              "      <td>0</td>\n",
              "      <td>0</td>\n",
              "      <td>0</td>\n",
              "      <td>21</td>\n",
              "    </tr>\n",
              "    <tr>\n",
              "      <th>3719</th>\n",
              "      <td>house</td>\n",
              "      <td>ansal sushant lok</td>\n",
              "      <td>sector 43</td>\n",
              "      <td>10.50</td>\n",
              "      <td>27911.0</td>\n",
              "      <td>3762.0</td>\n",
              "      <td>Plot area 418(349.5 sq.m.)</td>\n",
              "      <td>4</td>\n",
              "      <td>4</td>\n",
              "      <td>2</td>\n",
              "      <td>NaN</td>\n",
              "      <td>North-East</td>\n",
              "      <td>Old Property</td>\n",
              "      <td>NaN</td>\n",
              "      <td>3762.0</td>\n",
              "      <td>NaN</td>\n",
              "      <td>0</td>\n",
              "      <td>1</td>\n",
              "      <td>0</td>\n",
              "      <td>0</td>\n",
              "      <td>0</td>\n",
              "      <td>0</td>\n",
              "      <td>59</td>\n",
              "    </tr>\n",
              "    <tr>\n",
              "      <th>3722</th>\n",
              "      <td>house</td>\n",
              "      <td>independent</td>\n",
              "      <td>sector 26</td>\n",
              "      <td>4.60</td>\n",
              "      <td>12198.0</td>\n",
              "      <td>3771.0</td>\n",
              "      <td>Plot area 419(350.34 sq.m.)</td>\n",
              "      <td>4</td>\n",
              "      <td>4</td>\n",
              "      <td>3+</td>\n",
              "      <td>NaN</td>\n",
              "      <td>NaN</td>\n",
              "      <td>Old Property</td>\n",
              "      <td>NaN</td>\n",
              "      <td>3771.0</td>\n",
              "      <td>NaN</td>\n",
              "      <td>0</td>\n",
              "      <td>0</td>\n",
              "      <td>0</td>\n",
              "      <td>0</td>\n",
              "      <td>0</td>\n",
              "      <td>0</td>\n",
              "      <td>28</td>\n",
              "    </tr>\n",
              "    <tr>\n",
              "      <th>3855</th>\n",
              "      <td>house</td>\n",
              "      <td>emaar mgf marbella</td>\n",
              "      <td>sector 66</td>\n",
              "      <td>9.00</td>\n",
              "      <td>21251.0</td>\n",
              "      <td>4235.0</td>\n",
              "      <td>Plot area 5605(520.72 sq.m.)Built Up area: 520...</td>\n",
              "      <td>4</td>\n",
              "      <td>4</td>\n",
              "      <td>3+</td>\n",
              "      <td>NaN</td>\n",
              "      <td>South-West</td>\n",
              "      <td>Relatively New</td>\n",
              "      <td>NaN</td>\n",
              "      <td>5200.0</td>\n",
              "      <td>4235.0</td>\n",
              "      <td>0</td>\n",
              "      <td>1</td>\n",
              "      <td>1</td>\n",
              "      <td>1</td>\n",
              "      <td>0</td>\n",
              "      <td>1</td>\n",
              "      <td>114</td>\n",
              "    </tr>\n",
              "    <tr>\n",
              "      <th>3868</th>\n",
              "      <td>house</td>\n",
              "      <td>uppal southend</td>\n",
              "      <td>sector 49</td>\n",
              "      <td>6.75</td>\n",
              "      <td>290948.0</td>\n",
              "      <td>232.0</td>\n",
              "      <td>Plot area 232(21.55 sq.m.)</td>\n",
              "      <td>12</td>\n",
              "      <td>12</td>\n",
              "      <td>3+</td>\n",
              "      <td>NaN</td>\n",
              "      <td>West</td>\n",
              "      <td>Moderately Old</td>\n",
              "      <td>NaN</td>\n",
              "      <td>232.0</td>\n",
              "      <td>NaN</td>\n",
              "      <td>1</td>\n",
              "      <td>1</td>\n",
              "      <td>0</td>\n",
              "      <td>1</td>\n",
              "      <td>1</td>\n",
              "      <td>1</td>\n",
              "      <td>49</td>\n",
              "    </tr>\n",
              "  </tbody>\n",
              "</table>\n",
              "</div>\n",
              "    <div class=\"colab-df-buttons\">\n",
              "\n",
              "  <div class=\"colab-df-container\">\n",
              "    <button class=\"colab-df-convert\" onclick=\"convertToInteractive('df-54875422-902d-4d02-99c3-ca156e982c3e')\"\n",
              "            title=\"Convert this dataframe to an interactive table.\"\n",
              "            style=\"display:none;\">\n",
              "\n",
              "  <svg xmlns=\"http://www.w3.org/2000/svg\" height=\"24px\" viewBox=\"0 -960 960 960\">\n",
              "    <path d=\"M120-120v-720h720v720H120Zm60-500h600v-160H180v160Zm220 220h160v-160H400v160Zm0 220h160v-160H400v160ZM180-400h160v-160H180v160Zm440 0h160v-160H620v160ZM180-180h160v-160H180v160Zm440 0h160v-160H620v160Z\"/>\n",
              "  </svg>\n",
              "    </button>\n",
              "\n",
              "  <style>\n",
              "    .colab-df-container {\n",
              "      display:flex;\n",
              "      gap: 12px;\n",
              "    }\n",
              "\n",
              "    .colab-df-convert {\n",
              "      background-color: #E8F0FE;\n",
              "      border: none;\n",
              "      border-radius: 50%;\n",
              "      cursor: pointer;\n",
              "      display: none;\n",
              "      fill: #1967D2;\n",
              "      height: 32px;\n",
              "      padding: 0 0 0 0;\n",
              "      width: 32px;\n",
              "    }\n",
              "\n",
              "    .colab-df-convert:hover {\n",
              "      background-color: #E2EBFA;\n",
              "      box-shadow: 0px 1px 2px rgba(60, 64, 67, 0.3), 0px 1px 3px 1px rgba(60, 64, 67, 0.15);\n",
              "      fill: #174EA6;\n",
              "    }\n",
              "\n",
              "    .colab-df-buttons div {\n",
              "      margin-bottom: 4px;\n",
              "    }\n",
              "\n",
              "    [theme=dark] .colab-df-convert {\n",
              "      background-color: #3B4455;\n",
              "      fill: #D2E3FC;\n",
              "    }\n",
              "\n",
              "    [theme=dark] .colab-df-convert:hover {\n",
              "      background-color: #434B5C;\n",
              "      box-shadow: 0px 1px 3px 1px rgba(0, 0, 0, 0.15);\n",
              "      filter: drop-shadow(0px 1px 2px rgba(0, 0, 0, 0.3));\n",
              "      fill: #FFFFFF;\n",
              "    }\n",
              "  </style>\n",
              "\n",
              "    <script>\n",
              "      const buttonEl =\n",
              "        document.querySelector('#df-54875422-902d-4d02-99c3-ca156e982c3e button.colab-df-convert');\n",
              "      buttonEl.style.display =\n",
              "        google.colab.kernel.accessAllowed ? 'block' : 'none';\n",
              "\n",
              "      async function convertToInteractive(key) {\n",
              "        const element = document.querySelector('#df-54875422-902d-4d02-99c3-ca156e982c3e');\n",
              "        const dataTable =\n",
              "          await google.colab.kernel.invokeFunction('convertToInteractive',\n",
              "                                                    [key], {});\n",
              "        if (!dataTable) return;\n",
              "\n",
              "        const docLinkHtml = 'Like what you see? Visit the ' +\n",
              "          '<a target=\"_blank\" href=https://colab.research.google.com/notebooks/data_table.ipynb>data table notebook</a>'\n",
              "          + ' to learn more about interactive tables.';\n",
              "        element.innerHTML = '';\n",
              "        dataTable['output_type'] = 'display_data';\n",
              "        await google.colab.output.renderOutput(dataTable, element);\n",
              "        const docLink = document.createElement('div');\n",
              "        docLink.innerHTML = docLinkHtml;\n",
              "        element.appendChild(docLink);\n",
              "      }\n",
              "    </script>\n",
              "  </div>\n",
              "\n",
              "\n",
              "<div id=\"df-13b90bf2-3711-401c-b98b-f1a32ecfbffe\">\n",
              "  <button class=\"colab-df-quickchart\" onclick=\"quickchart('df-13b90bf2-3711-401c-b98b-f1a32ecfbffe')\"\n",
              "            title=\"Suggest charts.\"\n",
              "            style=\"display:none;\">\n",
              "\n",
              "<svg xmlns=\"http://www.w3.org/2000/svg\" height=\"24px\"viewBox=\"0 0 24 24\"\n",
              "     width=\"24px\">\n",
              "    <g>\n",
              "        <path d=\"M19 3H5c-1.1 0-2 .9-2 2v14c0 1.1.9 2 2 2h14c1.1 0 2-.9 2-2V5c0-1.1-.9-2-2-2zM9 17H7v-7h2v7zm4 0h-2V7h2v10zm4 0h-2v-4h2v4z\"/>\n",
              "    </g>\n",
              "</svg>\n",
              "  </button>\n",
              "\n",
              "<style>\n",
              "  .colab-df-quickchart {\n",
              "      --bg-color: #E8F0FE;\n",
              "      --fill-color: #1967D2;\n",
              "      --hover-bg-color: #E2EBFA;\n",
              "      --hover-fill-color: #174EA6;\n",
              "      --disabled-fill-color: #AAA;\n",
              "      --disabled-bg-color: #DDD;\n",
              "  }\n",
              "\n",
              "  [theme=dark] .colab-df-quickchart {\n",
              "      --bg-color: #3B4455;\n",
              "      --fill-color: #D2E3FC;\n",
              "      --hover-bg-color: #434B5C;\n",
              "      --hover-fill-color: #FFFFFF;\n",
              "      --disabled-bg-color: #3B4455;\n",
              "      --disabled-fill-color: #666;\n",
              "  }\n",
              "\n",
              "  .colab-df-quickchart {\n",
              "    background-color: var(--bg-color);\n",
              "    border: none;\n",
              "    border-radius: 50%;\n",
              "    cursor: pointer;\n",
              "    display: none;\n",
              "    fill: var(--fill-color);\n",
              "    height: 32px;\n",
              "    padding: 0;\n",
              "    width: 32px;\n",
              "  }\n",
              "\n",
              "  .colab-df-quickchart:hover {\n",
              "    background-color: var(--hover-bg-color);\n",
              "    box-shadow: 0 1px 2px rgba(60, 64, 67, 0.3), 0 1px 3px 1px rgba(60, 64, 67, 0.15);\n",
              "    fill: var(--button-hover-fill-color);\n",
              "  }\n",
              "\n",
              "  .colab-df-quickchart-complete:disabled,\n",
              "  .colab-df-quickchart-complete:disabled:hover {\n",
              "    background-color: var(--disabled-bg-color);\n",
              "    fill: var(--disabled-fill-color);\n",
              "    box-shadow: none;\n",
              "  }\n",
              "\n",
              "  .colab-df-spinner {\n",
              "    border: 2px solid var(--fill-color);\n",
              "    border-color: transparent;\n",
              "    border-bottom-color: var(--fill-color);\n",
              "    animation:\n",
              "      spin 1s steps(1) infinite;\n",
              "  }\n",
              "\n",
              "  @keyframes spin {\n",
              "    0% {\n",
              "      border-color: transparent;\n",
              "      border-bottom-color: var(--fill-color);\n",
              "      border-left-color: var(--fill-color);\n",
              "    }\n",
              "    20% {\n",
              "      border-color: transparent;\n",
              "      border-left-color: var(--fill-color);\n",
              "      border-top-color: var(--fill-color);\n",
              "    }\n",
              "    30% {\n",
              "      border-color: transparent;\n",
              "      border-left-color: var(--fill-color);\n",
              "      border-top-color: var(--fill-color);\n",
              "      border-right-color: var(--fill-color);\n",
              "    }\n",
              "    40% {\n",
              "      border-color: transparent;\n",
              "      border-right-color: var(--fill-color);\n",
              "      border-top-color: var(--fill-color);\n",
              "    }\n",
              "    60% {\n",
              "      border-color: transparent;\n",
              "      border-right-color: var(--fill-color);\n",
              "    }\n",
              "    80% {\n",
              "      border-color: transparent;\n",
              "      border-right-color: var(--fill-color);\n",
              "      border-bottom-color: var(--fill-color);\n",
              "    }\n",
              "    90% {\n",
              "      border-color: transparent;\n",
              "      border-bottom-color: var(--fill-color);\n",
              "    }\n",
              "  }\n",
              "</style>\n",
              "\n",
              "  <script>\n",
              "    async function quickchart(key) {\n",
              "      const quickchartButtonEl =\n",
              "        document.querySelector('#' + key + ' button');\n",
              "      quickchartButtonEl.disabled = true;  // To prevent multiple clicks.\n",
              "      quickchartButtonEl.classList.add('colab-df-spinner');\n",
              "      try {\n",
              "        const charts = await google.colab.kernel.invokeFunction(\n",
              "            'suggestCharts', [key], {});\n",
              "      } catch (error) {\n",
              "        console.error('Error during call to suggestCharts:', error);\n",
              "      }\n",
              "      quickchartButtonEl.classList.remove('colab-df-spinner');\n",
              "      quickchartButtonEl.classList.add('colab-df-quickchart-complete');\n",
              "    }\n",
              "    (() => {\n",
              "      let quickchartButtonEl =\n",
              "        document.querySelector('#df-13b90bf2-3711-401c-b98b-f1a32ecfbffe button');\n",
              "      quickchartButtonEl.style.display =\n",
              "        google.colab.kernel.accessAllowed ? 'block' : 'none';\n",
              "    })();\n",
              "  </script>\n",
              "</div>\n",
              "    </div>\n",
              "  </div>\n"
            ]
          },
          "metadata": {},
          "execution_count": 54
        }
      ]
    },
    {
      "cell_type": "code",
      "source": [
        "df['floorNum'].describe()"
      ],
      "metadata": {
        "colab": {
          "base_uri": "https://localhost:8080/"
        },
        "id": "RXg_UVUTX_ET",
        "outputId": "12525127-9d31-458d-832c-1915362edb03"
      },
      "execution_count": 55,
      "outputs": [
        {
          "output_type": "execute_result",
          "data": {
            "text/plain": [
              "count    3790.000000\n",
              "mean        6.668338\n",
              "std         5.999122\n",
              "min         0.000000\n",
              "25%         2.000000\n",
              "50%         4.000000\n",
              "75%        10.000000\n",
              "max        51.000000\n",
              "Name: floorNum, dtype: float64"
            ]
          },
          "metadata": {},
          "execution_count": 55
        }
      ]
    },
    {
      "cell_type": "code",
      "source": [
        "df['floorNum'].value_counts().sort_index().plot(kind='bar')"
      ],
      "metadata": {
        "colab": {
          "base_uri": "https://localhost:8080/",
          "height": 464
        },
        "id": "HmR7iPtsX_B1",
        "outputId": "fbfcfc59-55be-4300-faf6-d5000e75f5b7"
      },
      "execution_count": 56,
      "outputs": [
        {
          "output_type": "execute_result",
          "data": {
            "text/plain": [
              "<Axes: >"
            ]
          },
          "metadata": {},
          "execution_count": 56
        },
        {
          "output_type": "display_data",
          "data": {
            "text/plain": [
              "<Figure size 640x480 with 1 Axes>"
            ],
            "image/png": "[encoded data removed]"
          },
          "metadata": {}
        }
      ]
    },
    {
      "cell_type": "code",
      "source": [
        "sns.boxplot(df['floorNum'])"
      ],
      "metadata": {
        "colab": {
          "base_uri": "https://localhost:8080/",
          "height": 447
        },
        "id": "eK9m0NS2X--q",
        "outputId": "9941dec2-ba1f-4bbc-c06c-d896454f3a12"
      },
      "execution_count": 57,
      "outputs": [
        {
          "output_type": "execute_result",
          "data": {
            "text/plain": [
              "<Axes: >"
            ]
          },
          "metadata": {},
          "execution_count": 57
        },
        {
          "output_type": "display_data",
          "data": {
            "text/plain": [
              "<Figure size 640x480 with 1 Axes>"
            ],
            "image/png": "[encoded data removed]"
          },
          "metadata": {}
        }
      ]
    },
    {
      "cell_type": "markdown",
      "source": [
        "**Observations**\n",
        "* The majority of the properties lie between the ground floor (0) and the 25th floor.\n",
        "* Floors 1 to 4 are particularly common, with the 3rd floor being the most frequent.\n",
        "* There are a few properties located at higher floors, but their frequency is much lower.\n",
        "* The box plot reveals that the majority of the properties are concentrated around the lower floors. The interquartile range (IQR) lies between approximately the 2nd and 10th floors.\n",
        "* Data points beyond the \"whiskers\" of the box plot, especially on the higher side, indicate potential outliers."
      ],
      "metadata": {
        "id": "VNFNzQroF8BL"
      }
    },
    {
      "cell_type": "markdown",
      "source": [
        "**FACING**"
      ],
      "metadata": {
        "id": "aIWQVJSmGjr9"
      }
    },
    {
      "cell_type": "code",
      "source": [
        "df['facing'].isnull().sum()"
      ],
      "metadata": {
        "colab": {
          "base_uri": "https://localhost:8080/"
        },
        "id": "nDHv1yQSF4q9",
        "outputId": "2dbe21e7-82c6-42ed-ee10-285482f51bc3"
      },
      "execution_count": 58,
      "outputs": [
        {
          "output_type": "execute_result",
          "data": {
            "text/plain": [
              "1107"
            ]
          },
          "metadata": {},
          "execution_count": 58
        }
      ]
    },
    {
      "cell_type": "code",
      "source": [
        "df['facing'].fillna('NA', inplace=True)"
      ],
      "metadata": {
        "id": "l3wATSCTF4oM"
      },
      "execution_count": 59,
      "outputs": []
    },
    {
      "cell_type": "code",
      "source": [
        "df.facing.value_counts()"
      ],
      "metadata": {
        "colab": {
          "base_uri": "https://localhost:8080/"
        },
        "id": "-9KTXQdeF4lT",
        "outputId": "15bb64d3-d7b3-4601-9b77-30dda81b375a"
      },
      "execution_count": 60,
      "outputs": [
        {
          "output_type": "execute_result",
          "data": {
            "text/plain": [
              "NA            1107\n",
              "East           645\n",
              "North-East     644\n",
              "North          396\n",
              "West           250\n",
              "South          234\n",
              "North-West     198\n",
              "South-East     180\n",
              "South-West     155\n",
              "Name: facing, dtype: int64"
            ]
          },
          "metadata": {},
          "execution_count": 60
        }
      ]
    },
    {
      "cell_type": "markdown",
      "source": [
        "**AGEPOSSESSION**"
      ],
      "metadata": {
        "id": "PZNbYfw0HAbN"
      }
    },
    {
      "cell_type": "code",
      "source": [
        "df['agePossession'].isnull().sum()"
      ],
      "metadata": {
        "colab": {
          "base_uri": "https://localhost:8080/"
        },
        "id": "2GgviXqOF4iN",
        "outputId": "63d1e14e-9e28-486e-91e9-29a343b4ed2c"
      },
      "execution_count": 61,
      "outputs": [
        {
          "output_type": "execute_result",
          "data": {
            "text/plain": [
              "0"
            ]
          },
          "metadata": {},
          "execution_count": 61
        }
      ]
    },
    {
      "cell_type": "code",
      "source": [
        "df['agePossession'].value_counts()"
      ],
      "metadata": {
        "colab": {
          "base_uri": "https://localhost:8080/"
        },
        "id": "wRwLn8tUF4Ub",
        "outputId": "e44ccb1d-d307-427a-fb20-a0f1b88fb3c0"
      },
      "execution_count": 62,
      "outputs": [
        {
          "output_type": "execute_result",
          "data": {
            "text/plain": [
              "Relatively New        1667\n",
              "New Property           608\n",
              "Moderately Old         591\n",
              "Undefined              464\n",
              "Old Property           344\n",
              "Under Construction     135\n",
              "Name: agePossession, dtype: int64"
            ]
          },
          "metadata": {},
          "execution_count": 62
        }
      ]
    },
    {
      "cell_type": "markdown",
      "source": [
        "**TOTAL_AREA-> SUPER_BUILT_UP_AREA**"
      ],
      "metadata": {
        "id": "KJ1833WwHjgj"
      }
    },
    {
      "cell_type": "code",
      "source": [
        "df['super_built_up_area'].isnull().sum()"
      ],
      "metadata": {
        "colab": {
          "base_uri": "https://localhost:8080/"
        },
        "id": "Z-8Ly3IHF4P4",
        "outputId": "937eb35a-83fc-439e-d02d-2b82ad0b3ba5"
      },
      "execution_count": 63,
      "outputs": [
        {
          "output_type": "execute_result",
          "data": {
            "text/plain": [
              "1916"
            ]
          },
          "metadata": {},
          "execution_count": 63
        }
      ]
    },
    {
      "cell_type": "code",
      "source": [
        "df['super_built_up_area'].describe()"
      ],
      "metadata": {
        "colab": {
          "base_uri": "https://localhost:8080/"
        },
        "id": "ZZk75lgxIyxf",
        "outputId": "bc1edd6b-e568-4924-85ee-e8866bc1d063"
      },
      "execution_count": 64,
      "outputs": [
        {
          "output_type": "execute_result",
          "data": {
            "text/plain": [
              "count     1893.000000\n",
              "mean      1920.915240\n",
              "std        765.408479\n",
              "min         89.000000\n",
              "25%       1465.000000\n",
              "50%       1828.000000\n",
              "75%       2215.000000\n",
              "max      10000.000000\n",
              "Name: super_built_up_area, dtype: float64"
            ]
          },
          "metadata": {},
          "execution_count": 64
        }
      ]
    },
    {
      "cell_type": "code",
      "source": [
        "sns.histplot(df['super_built_up_area'].dropna(), bins=50, kde=True, color='lightgreen')"
      ],
      "metadata": {
        "colab": {
          "base_uri": "https://localhost:8080/",
          "height": 467
        },
        "id": "SY9bohkJF4NF",
        "outputId": "65af9200-fc95-4c21-865a-854c7545ed48"
      },
      "execution_count": 65,
      "outputs": [
        {
          "output_type": "execute_result",
          "data": {
            "text/plain": [
              "<Axes: xlabel='super_built_up_area', ylabel='Count'>"
            ]
          },
          "metadata": {},
          "execution_count": 65
        },
        {
          "output_type": "display_data",
          "data": {
            "text/plain": [
              "<Figure size 640x480 with 1 Axes>"
            ],
            "image/png": "[encoded data removed]"
          },
          "metadata": {}
        }
      ]
    },
    {
      "cell_type": "code",
      "source": [
        "sns.boxplot(df['super_built_up_area'], color='lightgreen')\n",
        "plt.grid()"
      ],
      "metadata": {
        "colab": {
          "base_uri": "https://localhost:8080/",
          "height": 430
        },
        "id": "CfKv_wcrF4KR",
        "outputId": "5a0b60b7-3918-4198-a006-14a363ba3b1c"
      },
      "execution_count": 66,
      "outputs": [
        {
          "output_type": "display_data",
          "data": {
            "text/plain": [
              "<Figure size 640x480 with 1 Axes>"
            ],
            "image/png": "[encoded data removed]"
          },
          "metadata": {}
        }
      ]
    },
    {
      "cell_type": "code",
      "source": [
        "lower_bound=df['super_built_up_area'].describe()['25%']\n",
        "upper_bound=df['super_built_up_area'].describe()['75%']\n",
        "print(lower_bound, upper_bound)"
      ],
      "metadata": {
        "colab": {
          "base_uri": "https://localhost:8080/"
        },
        "id": "BRjDNvVyF4HK",
        "outputId": "c3808e86-5c44-465c-c965-d8ade954525b"
      },
      "execution_count": 67,
      "outputs": [
        {
          "output_type": "stream",
          "name": "stdout",
          "text": [
            "1465.0 2215.0\n"
          ]
        }
      ]
    },
    {
      "cell_type": "code",
      "source": [
        "df[(df['super_built_up_area']<lower_bound) | (df['super_built_up_area']>upper_bound)].shape"
      ],
      "metadata": {
        "colab": {
          "base_uri": "https://localhost:8080/"
        },
        "id": "dgOwMvttF4ET",
        "outputId": "68c2ce88-1ccb-49d5-ca52-43cca3d6a7fe"
      },
      "execution_count": 68,
      "outputs": [
        {
          "output_type": "execute_result",
          "data": {
            "text/plain": [
              "(942, 23)"
            ]
          },
          "metadata": {},
          "execution_count": 68
        }
      ]
    },
    {
      "cell_type": "markdown",
      "source": [
        "**Observations**\n",
        "* Most properties have a super built-up area ranging between approximately 1,000 sq.ft and 2,500 sq.ft.\n",
        "* There are a few properties with a significantly larger area, leading to a right-skewed distribution.\n",
        "* The interquartile range (IQR) lies between roughly 1,465 sq.ft and 2,215 sq.ft, indicating that the middle 50% of the properties fall within this range.\n",
        "* There are several data points beyond the upper \"whisker\" of the box plot, indicating potential outliers. These are properties with an unusually large super built-up area."
      ],
      "metadata": {
        "id": "ho2d3WNbNqmU"
      }
    },
    {
      "cell_type": "markdown",
      "source": [
        "**BUILT_UP_AREA**"
      ],
      "metadata": {
        "id": "m_DyUe03OF5Z"
      }
    },
    {
      "cell_type": "code",
      "source": [
        "df['built_up_area'].isnull().sum()"
      ],
      "metadata": {
        "colab": {
          "base_uri": "https://localhost:8080/"
        },
        "id": "rTmOJdcfOEaH",
        "outputId": "3f7d1775-a282-4ca7-a4a5-50158adfdef9"
      },
      "execution_count": 69,
      "outputs": [
        {
          "output_type": "execute_result",
          "data": {
            "text/plain": [
              "2026"
            ]
          },
          "metadata": {},
          "execution_count": 69
        }
      ]
    },
    {
      "cell_type": "code",
      "source": [
        "df['built_up_area'].describe()"
      ],
      "metadata": {
        "colab": {
          "base_uri": "https://localhost:8080/"
        },
        "id": "mwrX7zEGOEX6",
        "outputId": "a5a51eaa-4c3a-4b4e-f053-66b58f1a6920"
      },
      "execution_count": 70,
      "outputs": [
        {
          "output_type": "execute_result",
          "data": {
            "text/plain": [
              "count      1783.000000\n",
              "mean       2326.904447\n",
              "std       17480.578490\n",
              "min           2.000000\n",
              "25%        1050.000000\n",
              "50%        1620.000000\n",
              "75%        2367.000000\n",
              "max      737147.000000\n",
              "Name: built_up_area, dtype: float64"
            ]
          },
          "metadata": {},
          "execution_count": 70
        }
      ]
    },
    {
      "cell_type": "code",
      "source": [
        "sns.histplot(df['built_up_area'].dropna(), kde=True, bins=50, color='red')"
      ],
      "metadata": {
        "colab": {
          "base_uri": "https://localhost:8080/",
          "height": 467
        },
        "id": "-DzKGFEeOEQL",
        "outputId": "2268f3d6-2a0f-4000-a1e4-5f6617eac157"
      },
      "execution_count": 71,
      "outputs": [
        {
          "output_type": "execute_result",
          "data": {
            "text/plain": [
              "<Axes: xlabel='built_up_area', ylabel='Count'>"
            ]
          },
          "metadata": {},
          "execution_count": 71
        },
        {
          "output_type": "display_data",
          "data": {
            "text/plain": [
              "<Figure size 640x480 with 1 Axes>"
            ],
            "image/png": "[encoded data removed]"
          },
          "metadata": {}
        }
      ]
    },
    {
      "cell_type": "code",
      "source": [
        "sns.boxplot(df['built_up_area'], color='lightgreen')\n",
        "plt.grid()"
      ],
      "metadata": {
        "colab": {
          "base_uri": "https://localhost:8080/",
          "height": 430
        },
        "id": "b-Reb3ZeOENY",
        "outputId": "6effd33b-e77e-468c-d997-ba8049a50323"
      },
      "execution_count": 72,
      "outputs": [
        {
          "output_type": "display_data",
          "data": {
            "text/plain": [
              "<Figure size 640x480 with 1 Axes>"
            ],
            "image/png": "[encoded data removed]"
          },
          "metadata": {}
        }
      ]
    },
    {
      "cell_type": "code",
      "source": [
        "df[(df['built_up_area']>500) | (df['built_up_area']<3500)].shape"
      ],
      "metadata": {
        "colab": {
          "base_uri": "https://localhost:8080/"
        },
        "id": "pZbUvijWRzCO",
        "outputId": "80257c18-53fb-4555-eb77-09e0ec1118e4"
      },
      "execution_count": 73,
      "outputs": [
        {
          "output_type": "execute_result",
          "data": {
            "text/plain": [
              "(1783, 23)"
            ]
          },
          "metadata": {},
          "execution_count": 73
        }
      ]
    },
    {
      "cell_type": "markdown",
      "source": [
        "**Observations**\n",
        "* Most properties have a built-up area ranging roughly between 500 sq.ft and 3,500 sq.ft.\n",
        "* There are very few properties with a much larger built-up area, leading to a highly right-skewed distribution.\n",
        "* The box plot confirms the presence of significant outliers on the higher side. The data's interquartile range (IQR) is relatively compact, but the \"whiskers\" of the box plot are stretched due to the outliers.\n",
        "* The presence of extreme values, especially on the higher side, suggests that there may be outliers or data errors. This could also be due to some properties being exceptionally large, like a commercial complex or an entire building being listed."
      ],
      "metadata": {
        "id": "RoL59Z3VPsT1"
      }
    },
    {
      "cell_type": "markdown",
      "source": [
        "**CARPET_AREA**"
      ],
      "metadata": {
        "id": "87ILzNqXSd-s"
      }
    },
    {
      "cell_type": "code",
      "source": [
        "df['carpet_area'].isnull().sum()"
      ],
      "metadata": {
        "colab": {
          "base_uri": "https://localhost:8080/"
        },
        "id": "FhLnH7nvRXIP",
        "outputId": "5047123d-c70b-41ba-89c2-897339a5be97"
      },
      "execution_count": 74,
      "outputs": [
        {
          "output_type": "execute_result",
          "data": {
            "text/plain": [
              "1884"
            ]
          },
          "metadata": {},
          "execution_count": 74
        }
      ]
    },
    {
      "cell_type": "code",
      "source": [
        "df['carpet_area'].describe()"
      ],
      "metadata": {
        "colab": {
          "base_uri": "https://localhost:8080/"
        },
        "id": "y9hS2MR7OEKU",
        "outputId": "de7d9cb6-4094-41f1-96e9-80e7794ef066"
      },
      "execution_count": 75,
      "outputs": [
        {
          "output_type": "execute_result",
          "data": {
            "text/plain": [
              "count      1925.000000\n",
              "mean       2493.226518\n",
              "std       22485.251129\n",
              "min          15.000000\n",
              "25%         822.000000\n",
              "50%        1290.000000\n",
              "75%        1785.000000\n",
              "max      607936.000000\n",
              "Name: carpet_area, dtype: float64"
            ]
          },
          "metadata": {},
          "execution_count": 75
        }
      ]
    },
    {
      "cell_type": "code",
      "source": [
        "sns.histplot(df['carpet_area'].dropna(), bins=50, color='skyblue', kde=False)"
      ],
      "metadata": {
        "colab": {
          "base_uri": "https://localhost:8080/",
          "height": 470
        },
        "id": "do3I-t3wOEGz",
        "outputId": "c2acbc94-6e27-4037-867e-830ad4a4e756"
      },
      "execution_count": 76,
      "outputs": [
        {
          "output_type": "execute_result",
          "data": {
            "text/plain": [
              "<Axes: xlabel='carpet_area', ylabel='Count'>"
            ]
          },
          "metadata": {},
          "execution_count": 76
        },
        {
          "output_type": "display_data",
          "data": {
            "text/plain": [
              "<Figure size 640x480 with 1 Axes>"
            ],
            "image/png": "[encoded data removed]"
          },
          "metadata": {}
        }
      ]
    },
    {
      "cell_type": "code",
      "source": [
        "sns.boxplot(df['carpet_area'].dropna(), color='lightgreen')"
      ],
      "metadata": {
        "colab": {
          "base_uri": "https://localhost:8080/",
          "height": 447
        },
        "id": "1qK2-ExtOED2",
        "outputId": "cb0a7e5a-6ef0-4b14-aaa0-850b5a90330d"
      },
      "execution_count": 77,
      "outputs": [
        {
          "output_type": "execute_result",
          "data": {
            "text/plain": [
              "<Axes: >"
            ]
          },
          "metadata": {},
          "execution_count": 77
        },
        {
          "output_type": "display_data",
          "data": {
            "text/plain": [
              "<Figure size 640x480 with 1 Axes>"
            ],
            "image/png": "[encoded data removed]"
          },
          "metadata": {}
        }
      ]
    },
    {
      "cell_type": "code",
      "source": [
        "df.iloc[:,16:]"
      ],
      "metadata": {
        "colab": {
          "base_uri": "https://localhost:8080/",
          "height": 423
        },
        "id": "kPmuwAbBOEAm",
        "outputId": "83e54b91-a19e-4175-8277-5a9263b922c6"
      },
      "execution_count": 78,
      "outputs": [
        {
          "output_type": "execute_result",
          "data": {
            "text/plain": [
              "      study_room  servant_room  store_room  pooja_room  others  \\\n",
              "0              0             0           0           0       0   \n",
              "1              0             0           0           0       0   \n",
              "2              0             0           0           0       0   \n",
              "3              1             0           0           0       0   \n",
              "4              1             0           0           0       0   \n",
              "...          ...           ...         ...         ...     ...   \n",
              "3935           1             1           0           1       0   \n",
              "3936           1             0           0           0       0   \n",
              "3937           1             1           0           0       0   \n",
              "3938           1             0           0           0       0   \n",
              "3939           1             1           0           1       1   \n",
              "\n",
              "      furnishing_type  luxury_score  \n",
              "0                   0            28  \n",
              "1                   1            37  \n",
              "2                   0            36  \n",
              "3                   0            76  \n",
              "4                   0             0  \n",
              "...               ...           ...  \n",
              "3935                0            69  \n",
              "3936                0            35  \n",
              "3937                0            70  \n",
              "3938                0            79  \n",
              "3939                2           160  \n",
              "\n",
              "[3809 rows x 7 columns]"
            ],
            "text/html": [
              "\n",
              "  <div id=\"df-ac488d50-553d-4bad-8e1d-207c0455ff44\" class=\"colab-df-container\">\n",
              "    <div>\n",
              "<style scoped>\n",
              "    .dataframe tbody tr th:only-of-type {\n",
              "        vertical-align: middle;\n",
              "    }\n",
              "\n",
              "    .dataframe tbody tr th {\n",
              "        vertical-align: top;\n",
              "    }\n",
              "\n",
              "    .dataframe thead th {\n",
              "        text-align: right;\n",
              "    }\n",
              "</style>\n",
              "<table border=\"1\" class=\"dataframe\">\n",
              "  <thead>\n",
              "    <tr style=\"text-align: right;\">\n",
              "      <th></th>\n",
              "      <th>study_room</th>\n",
              "      <th>servant_room</th>\n",
              "      <th>store_room</th>\n",
              "      <th>pooja_room</th>\n",
              "      <th>others</th>\n",
              "      <th>furnishing_type</th>\n",
              "      <th>luxury_score</th>\n",
              "    </tr>\n",
              "  </thead>\n",
              "  <tbody>\n",
              "    <tr>\n",
              "      <th>0</th>\n",
              "      <td>0</td>\n",
              "      <td>0</td>\n",
              "      <td>0</td>\n",
              "      <td>0</td>\n",
              "      <td>0</td>\n",
              "      <td>0</td>\n",
              "      <td>28</td>\n",
              "    </tr>\n",
              "    <tr>\n",
              "      <th>1</th>\n",
              "      <td>0</td>\n",
              "      <td>0</td>\n",
              "      <td>0</td>\n",
              "      <td>0</td>\n",
              "      <td>0</td>\n",
              "      <td>1</td>\n",
              "      <td>37</td>\n",
              "    </tr>\n",
              "    <tr>\n",
              "      <th>2</th>\n",
              "      <td>0</td>\n",
              "      <td>0</td>\n",
              "      <td>0</td>\n",
              "      <td>0</td>\n",
              "      <td>0</td>\n",
              "      <td>0</td>\n",
              "      <td>36</td>\n",
              "    </tr>\n",
              "    <tr>\n",
              "      <th>3</th>\n",
              "      <td>1</td>\n",
              "      <td>0</td>\n",
              "      <td>0</td>\n",
              "      <td>0</td>\n",
              "      <td>0</td>\n",
              "      <td>0</td>\n",
              "      <td>76</td>\n",
              "    </tr>\n",
              "    <tr>\n",
              "      <th>4</th>\n",
              "      <td>1</td>\n",
              "      <td>0</td>\n",
              "      <td>0</td>\n",
              "      <td>0</td>\n",
              "      <td>0</td>\n",
              "      <td>0</td>\n",
              "      <td>0</td>\n",
              "    </tr>\n",
              "    <tr>\n",
              "      <th>...</th>\n",
              "      <td>...</td>\n",
              "      <td>...</td>\n",
              "      <td>...</td>\n",
              "      <td>...</td>\n",
              "      <td>...</td>\n",
              "      <td>...</td>\n",
              "      <td>...</td>\n",
              "    </tr>\n",
              "    <tr>\n",
              "      <th>3935</th>\n",
              "      <td>1</td>\n",
              "      <td>1</td>\n",
              "      <td>0</td>\n",
              "      <td>1</td>\n",
              "      <td>0</td>\n",
              "      <td>0</td>\n",
              "      <td>69</td>\n",
              "    </tr>\n",
              "    <tr>\n",
              "      <th>3936</th>\n",
              "      <td>1</td>\n",
              "      <td>0</td>\n",
              "      <td>0</td>\n",
              "      <td>0</td>\n",
              "      <td>0</td>\n",
              "      <td>0</td>\n",
              "      <td>35</td>\n",
              "    </tr>\n",
              "    <tr>\n",
              "      <th>3937</th>\n",
              "      <td>1</td>\n",
              "      <td>1</td>\n",
              "      <td>0</td>\n",
              "      <td>0</td>\n",
              "      <td>0</td>\n",
              "      <td>0</td>\n",
              "      <td>70</td>\n",
              "    </tr>\n",
              "    <tr>\n",
              "      <th>3938</th>\n",
              "      <td>1</td>\n",
              "      <td>0</td>\n",
              "      <td>0</td>\n",
              "      <td>0</td>\n",
              "      <td>0</td>\n",
              "      <td>0</td>\n",
              "      <td>79</td>\n",
              "    </tr>\n",
              "    <tr>\n",
              "      <th>3939</th>\n",
              "      <td>1</td>\n",
              "      <td>1</td>\n",
              "      <td>0</td>\n",
              "      <td>1</td>\n",
              "      <td>1</td>\n",
              "      <td>2</td>\n",
              "      <td>160</td>\n",
              "    </tr>\n",
              "  </tbody>\n",
              "</table>\n",
              "<p>3809 rows × 7 columns</p>\n",
              "</div>\n",
              "    <div class=\"colab-df-buttons\">\n",
              "\n",
              "  <div class=\"colab-df-container\">\n",
              "    <button class=\"colab-df-convert\" onclick=\"convertToInteractive('df-ac488d50-553d-4bad-8e1d-207c0455ff44')\"\n",
              "            title=\"Convert this dataframe to an interactive table.\"\n",
              "            style=\"display:none;\">\n",
              "\n",
              "  <svg xmlns=\"http://www.w3.org/2000/svg\" height=\"24px\" viewBox=\"0 -960 960 960\">\n",
              "    <path d=\"M120-120v-720h720v720H120Zm60-500h600v-160H180v160Zm220 220h160v-160H400v160Zm0 220h160v-160H400v160ZM180-400h160v-160H180v160Zm440 0h160v-160H620v160ZM180-180h160v-160H180v160Zm440 0h160v-160H620v160Z\"/>\n",
              "  </svg>\n",
              "    </button>\n",
              "\n",
              "  <style>\n",
              "    .colab-df-container {\n",
              "      display:flex;\n",
              "      gap: 12px;\n",
              "    }\n",
              "\n",
              "    .colab-df-convert {\n",
              "      background-color: #E8F0FE;\n",
              "      border: none;\n",
              "      border-radius: 50%;\n",
              "      cursor: pointer;\n",
              "      display: none;\n",
              "      fill: #1967D2;\n",
              "      height: 32px;\n",
              "      padding: 0 0 0 0;\n",
              "      width: 32px;\n",
              "    }\n",
              "\n",
              "    .colab-df-convert:hover {\n",
              "      background-color: #E2EBFA;\n",
              "      box-shadow: 0px 1px 2px rgba(60, 64, 67, 0.3), 0px 1px 3px 1px rgba(60, 64, 67, 0.15);\n",
              "      fill: #174EA6;\n",
              "    }\n",
              "\n",
              "    .colab-df-buttons div {\n",
              "      margin-bottom: 4px;\n",
              "    }\n",
              "\n",
              "    [theme=dark] .colab-df-convert {\n",
              "      background-color: #3B4455;\n",
              "      fill: #D2E3FC;\n",
              "    }\n",
              "\n",
              "    [theme=dark] .colab-df-convert:hover {\n",
              "      background-color: #434B5C;\n",
              "      box-shadow: 0px 1px 3px 1px rgba(0, 0, 0, 0.15);\n",
              "      filter: drop-shadow(0px 1px 2px rgba(0, 0, 0, 0.3));\n",
              "      fill: #FFFFFF;\n",
              "    }\n",
              "  </style>\n",
              "\n",
              "    <script>\n",
              "      const buttonEl =\n",
              "        document.querySelector('#df-ac488d50-553d-4bad-8e1d-207c0455ff44 button.colab-df-convert');\n",
              "      buttonEl.style.display =\n",
              "        google.colab.kernel.accessAllowed ? 'block' : 'none';\n",
              "\n",
              "      async function convertToInteractive(key) {\n",
              "        const element = document.querySelector('#df-ac488d50-553d-4bad-8e1d-207c0455ff44');\n",
              "        const dataTable =\n",
              "          await google.colab.kernel.invokeFunction('convertToInteractive',\n",
              "                                                    [key], {});\n",
              "        if (!dataTable) return;\n",
              "\n",
              "        const docLinkHtml = 'Like what you see? Visit the ' +\n",
              "          '<a target=\"_blank\" href=https://colab.research.google.com/notebooks/data_table.ipynb>data table notebook</a>'\n",
              "          + ' to learn more about interactive tables.';\n",
              "        element.innerHTML = '';\n",
              "        dataTable['output_type'] = 'display_data';\n",
              "        await google.colab.output.renderOutput(dataTable, element);\n",
              "        const docLink = document.createElement('div');\n",
              "        docLink.innerHTML = docLinkHtml;\n",
              "        element.appendChild(docLink);\n",
              "      }\n",
              "    </script>\n",
              "  </div>\n",
              "\n",
              "\n",
              "<div id=\"df-20b9c7bb-30dd-46df-8572-e972b1f388de\">\n",
              "  <button class=\"colab-df-quickchart\" onclick=\"quickchart('df-20b9c7bb-30dd-46df-8572-e972b1f388de')\"\n",
              "            title=\"Suggest charts.\"\n",
              "            style=\"display:none;\">\n",
              "\n",
              "<svg xmlns=\"http://www.w3.org/2000/svg\" height=\"24px\"viewBox=\"0 0 24 24\"\n",
              "     width=\"24px\">\n",
              "    <g>\n",
              "        <path d=\"M19 3H5c-1.1 0-2 .9-2 2v14c0 1.1.9 2 2 2h14c1.1 0 2-.9 2-2V5c0-1.1-.9-2-2-2zM9 17H7v-7h2v7zm4 0h-2V7h2v10zm4 0h-2v-4h2v4z\"/>\n",
              "    </g>\n",
              "</svg>\n",
              "  </button>\n",
              "\n",
              "<style>\n",
              "  .colab-df-quickchart {\n",
              "      --bg-color: #E8F0FE;\n",
              "      --fill-color: #1967D2;\n",
              "      --hover-bg-color: #E2EBFA;\n",
              "      --hover-fill-color: #174EA6;\n",
              "      --disabled-fill-color: #AAA;\n",
              "      --disabled-bg-color: #DDD;\n",
              "  }\n",
              "\n",
              "  [theme=dark] .colab-df-quickchart {\n",
              "      --bg-color: #3B4455;\n",
              "      --fill-color: #D2E3FC;\n",
              "      --hover-bg-color: #434B5C;\n",
              "      --hover-fill-color: #FFFFFF;\n",
              "      --disabled-bg-color: #3B4455;\n",
              "      --disabled-fill-color: #666;\n",
              "  }\n",
              "\n",
              "  .colab-df-quickchart {\n",
              "    background-color: var(--bg-color);\n",
              "    border: none;\n",
              "    border-radius: 50%;\n",
              "    cursor: pointer;\n",
              "    display: none;\n",
              "    fill: var(--fill-color);\n",
              "    height: 32px;\n",
              "    padding: 0;\n",
              "    width: 32px;\n",
              "  }\n",
              "\n",
              "  .colab-df-quickchart:hover {\n",
              "    background-color: var(--hover-bg-color);\n",
              "    box-shadow: 0 1px 2px rgba(60, 64, 67, 0.3), 0 1px 3px 1px rgba(60, 64, 67, 0.15);\n",
              "    fill: var(--button-hover-fill-color);\n",
              "  }\n",
              "\n",
              "  .colab-df-quickchart-complete:disabled,\n",
              "  .colab-df-quickchart-complete:disabled:hover {\n",
              "    background-color: var(--disabled-bg-color);\n",
              "    fill: var(--disabled-fill-color);\n",
              "    box-shadow: none;\n",
              "  }\n",
              "\n",
              "  .colab-df-spinner {\n",
              "    border: 2px solid var(--fill-color);\n",
              "    border-color: transparent;\n",
              "    border-bottom-color: var(--fill-color);\n",
              "    animation:\n",
              "      spin 1s steps(1) infinite;\n",
              "  }\n",
              "\n",
              "  @keyframes spin {\n",
              "    0% {\n",
              "      border-color: transparent;\n",
              "      border-bottom-color: var(--fill-color);\n",
              "      border-left-color: var(--fill-color);\n",
              "    }\n",
              "    20% {\n",
              "      border-color: transparent;\n",
              "      border-left-color: var(--fill-color);\n",
              "      border-top-color: var(--fill-color);\n",
              "    }\n",
              "    30% {\n",
              "      border-color: transparent;\n",
              "      border-left-color: var(--fill-color);\n",
              "      border-top-color: var(--fill-color);\n",
              "      border-right-color: var(--fill-color);\n",
              "    }\n",
              "    40% {\n",
              "      border-color: transparent;\n",
              "      border-right-color: var(--fill-color);\n",
              "      border-top-color: var(--fill-color);\n",
              "    }\n",
              "    60% {\n",
              "      border-color: transparent;\n",
              "      border-right-color: var(--fill-color);\n",
              "    }\n",
              "    80% {\n",
              "      border-color: transparent;\n",
              "      border-right-color: var(--fill-color);\n",
              "      border-bottom-color: var(--fill-color);\n",
              "    }\n",
              "    90% {\n",
              "      border-color: transparent;\n",
              "      border-bottom-color: var(--fill-color);\n",
              "    }\n",
              "  }\n",
              "</style>\n",
              "\n",
              "  <script>\n",
              "    async function quickchart(key) {\n",
              "      const quickchartButtonEl =\n",
              "        document.querySelector('#' + key + ' button');\n",
              "      quickchartButtonEl.disabled = true;  // To prevent multiple clicks.\n",
              "      quickchartButtonEl.classList.add('colab-df-spinner');\n",
              "      try {\n",
              "        const charts = await google.colab.kernel.invokeFunction(\n",
              "            'suggestCharts', [key], {});\n",
              "      } catch (error) {\n",
              "        console.error('Error during call to suggestCharts:', error);\n",
              "      }\n",
              "      quickchartButtonEl.classList.remove('colab-df-spinner');\n",
              "      quickchartButtonEl.classList.add('colab-df-quickchart-complete');\n",
              "    }\n",
              "    (() => {\n",
              "      let quickchartButtonEl =\n",
              "        document.querySelector('#df-20b9c7bb-30dd-46df-8572-e972b1f388de button');\n",
              "      quickchartButtonEl.style.display =\n",
              "        google.colab.kernel.accessAllowed ? 'block' : 'none';\n",
              "    })();\n",
              "  </script>\n",
              "</div>\n",
              "    </div>\n",
              "  </div>\n"
            ]
          },
          "metadata": {},
          "execution_count": 78
        }
      ]
    },
    {
      "cell_type": "markdown",
      "source": [
        "**ADDITIONAL_ROOM**"
      ],
      "metadata": {
        "id": "Q8MCuqE0UBdm"
      }
    },
    {
      "cell_type": "code",
      "source": [
        "plt.figure(figsize=(20, 12))\n",
        "\n",
        "# Create a subplot of pie charts for each room type\n",
        "for idx, room in enumerate(['study_room','servant_room','store_room','pooja_room','others'], 1):\n",
        "    ax = plt.subplot(2, 3, idx)\n",
        "    df[room].value_counts().plot.pie(autopct='%1.1f%%', startangle=90, ax=ax)\n",
        "    plt.title(f'Distribution of {room.title()}')\n",
        "    plt.ylabel('')\n",
        "\n",
        "plt.tight_layout()\n",
        "plt.show()"
      ],
      "metadata": {
        "colab": {
          "base_uri": "https://localhost:8080/",
          "height": 720
        },
        "id": "IhQkKIcmOD9j",
        "outputId": "a1d52c7f-d861-484f-f1b8-7fd945876367"
      },
      "execution_count": 79,
      "outputs": [
        {
          "output_type": "display_data",
          "data": {
            "text/plain": [
              "<Figure size 2000x1200 with 5 Axes>"
            ],
            "image/png": "[encoded data removed]"
          },
          "metadata": {}
        }
      ]
    },
    {
      "cell_type": "markdown",
      "source": [
        "**FURNISHING_TYPE**"
      ],
      "metadata": {
        "id": "LoG7HBvFWOq_"
      }
    },
    {
      "cell_type": "code",
      "source": [
        "df['furnishing_type'].isnull().sum()"
      ],
      "metadata": {
        "colab": {
          "base_uri": "https://localhost:8080/"
        },
        "id": "KLSS7ZRtYa5o",
        "outputId": "0c88a750-fb64-4a02-ae1c-f6f187b4c94a"
      },
      "execution_count": 80,
      "outputs": [
        {
          "output_type": "execute_result",
          "data": {
            "text/plain": [
              "0"
            ]
          },
          "metadata": {},
          "execution_count": 80
        }
      ]
    },
    {
      "cell_type": "code",
      "source": [
        "df['furnishing_type'].value_counts()"
      ],
      "metadata": {
        "colab": {
          "base_uri": "https://localhost:8080/"
        },
        "id": "JR_BX_slTR_X",
        "outputId": "dd294300-e9c0-4436-a078-ec6170c66ebd"
      },
      "execution_count": 81,
      "outputs": [
        {
          "output_type": "execute_result",
          "data": {
            "text/plain": [
              "0    2522\n",
              "1    1080\n",
              "2     207\n",
              "Name: furnishing_type, dtype: int64"
            ]
          },
          "metadata": {},
          "execution_count": 81
        }
      ]
    },
    {
      "cell_type": "markdown",
      "source": [
        "* 0 -> unfurnished\n",
        "* 1 -> semifurnished\n",
        "* 2 -> furnished"
      ],
      "metadata": {
        "id": "RLgWFgwkYMXA"
      }
    },
    {
      "cell_type": "code",
      "source": [
        "df['furnishing_type'].value_counts().plot(kind='pie',autopct='%0.2f%%')"
      ],
      "metadata": {
        "colab": {
          "base_uri": "https://localhost:8080/",
          "height": 423
        },
        "id": "w7gQe8UiTR7T",
        "outputId": "facb4a77-61ce-4d9c-ec2d-e0f86261ada8"
      },
      "execution_count": 82,
      "outputs": [
        {
          "output_type": "execute_result",
          "data": {
            "text/plain": [
              "<Axes: ylabel='furnishing_type'>"
            ]
          },
          "metadata": {},
          "execution_count": 82
        },
        {
          "output_type": "display_data",
          "data": {
            "text/plain": [
              "<Figure size 640x480 with 1 Axes>"
            ],
            "image/png": "[encoded data removed]"
          },
          "metadata": {}
        }
      ]
    },
    {
      "cell_type": "markdown",
      "source": [
        "**LUXURY SCORE**"
      ],
      "metadata": {
        "id": "PkBmTRSHYkbY"
      }
    },
    {
      "cell_type": "code",
      "source": [
        "df['luxury_score'].describe()"
      ],
      "metadata": {
        "colab": {
          "base_uri": "https://localhost:8080/"
        },
        "id": "jE6v9CooTR3W",
        "outputId": "e3524428-0f5a-47e2-ecb3-4e4c2169d464"
      },
      "execution_count": 83,
      "outputs": [
        {
          "output_type": "execute_result",
          "data": {
            "text/plain": [
              "count    3809.000000\n",
              "mean       69.695721\n",
              "std        53.300929\n",
              "min         0.000000\n",
              "25%        28.000000\n",
              "50%        56.000000\n",
              "75%       108.000000\n",
              "max       174.000000\n",
              "Name: luxury_score, dtype: float64"
            ]
          },
          "metadata": {},
          "execution_count": 83
        }
      ]
    },
    {
      "cell_type": "code",
      "source": [
        "sns.histplot(df['luxury_score'],bins=50,kde=True, color='lightgreen')"
      ],
      "metadata": {
        "colab": {
          "base_uri": "https://localhost:8080/",
          "height": 467
        },
        "id": "B2LqcOIjTRzR",
        "outputId": "024d03da-3874-4133-e232-7e1c7db22ba1"
      },
      "execution_count": 84,
      "outputs": [
        {
          "output_type": "execute_result",
          "data": {
            "text/plain": [
              "<Axes: xlabel='luxury_score', ylabel='Count'>"
            ]
          },
          "metadata": {},
          "execution_count": 84
        },
        {
          "output_type": "display_data",
          "data": {
            "text/plain": [
              "<Figure size 640x480 with 1 Axes>"
            ],
            "image/png": "[encoded data removed]"
          },
          "metadata": {}
        }
      ]
    },
    {
      "cell_type": "code",
      "source": [
        "sns.boxplot(df['luxury_score'], color='lightgreen')"
      ],
      "metadata": {
        "colab": {
          "base_uri": "https://localhost:8080/",
          "height": 447
        },
        "id": "ySknoZdlY4NX",
        "outputId": "05efcde3-bf49-43e2-9c97-c44e2667109e"
      },
      "execution_count": 85,
      "outputs": [
        {
          "output_type": "execute_result",
          "data": {
            "text/plain": [
              "<Axes: >"
            ]
          },
          "metadata": {},
          "execution_count": 85
        },
        {
          "output_type": "display_data",
          "data": {
            "text/plain": [
              "<Figure size 640x480 with 1 Axes>"
            ],
            "image/png": "[encoded data removed]"
          },
          "metadata": {}
        }
      ]
    },
    {
      "cell_type": "markdown",
      "source": [
        "**Observations**\n",
        "* The luxury score distribution has multiple peaks, suggesting a multi-modal distribution. There's a significant number of properties with lower luxury scores (around 0-50), and another peak is observed around the 110-130 range.\n",
        "\n",
        "* The box plot reveals that the majority of the properties have luxury scores between approximately 25 and 115. The interquartile range (IQR) lies between these values."
      ],
      "metadata": {
        "id": "A1mnW9PfZf2P"
      }
    },
    {
      "cell_type": "code",
      "source": [
        "df.head()"
      ],
      "metadata": {
        "colab": {
          "base_uri": "https://localhost:8080/",
          "height": 417
        },
        "id": "fjsmsHHkY4KQ",
        "outputId": "333b3817-89fb-43ce-9b39-9ca028363c9e"
      },
      "execution_count": 86,
      "outputs": [
        {
          "output_type": "execute_result",
          "data": {
            "text/plain": [
              "  property_type                 society     sector  price_in_cr  \\\n",
              "0          flat  maa bhagwati residency   sector 3         0.45   \n",
              "1          flat            apna enclave   sector 3         0.50   \n",
              "2          flat  tulsiani easy in homes  sector 35         0.40   \n",
              "3          flat     smart world orchard  sector 61         1.47   \n",
              "4          flat        parkwood westend  sector 92         0.70   \n",
              "\n",
              "   price_per_sq.ft  total_area                            areaWithType  \\\n",
              "0           5000.0       900.0          Carpet area: 900 (83.61 sq.m.)   \n",
              "1           7692.0       650.0          Carpet area: 650 (60.39 sq.m.)   \n",
              "2           6722.0       595.0          Carpet area: 595 (55.28 sq.m.)   \n",
              "3          12250.0      1200.0        Carpet area: 1200 (111.48 sq.m.)   \n",
              "4           5204.0      1345.0  Super Built up area 1345(124.95 sq.m.)   \n",
              "\n",
              "   bedrooms  bathrooms balconies  floorNum facing       agePossession  \\\n",
              "0         2          2         1       4.0   West      Relatively New   \n",
              "1         2          2         1       1.0   West        Old Property   \n",
              "2         2          2         3      12.0     NA        New Property   \n",
              "3         2          2         2       2.0     NA           Undefined   \n",
              "4         2          2         3       5.0     NA  Under Construction   \n",
              "\n",
              "   super_built_up_area  built_up_area  carpet_area  study_room  servant_room  \\\n",
              "0                  NaN            NaN        900.0           0             0   \n",
              "1                  NaN            NaN        650.0           0             0   \n",
              "2                  NaN            NaN        595.0           0             0   \n",
              "3                  NaN            NaN       1200.0           1             0   \n",
              "4               1345.0            NaN          NaN           1             0   \n",
              "\n",
              "   store_room  pooja_room  others  furnishing_type  luxury_score  \n",
              "0           0           0       0                0            28  \n",
              "1           0           0       0                1            37  \n",
              "2           0           0       0                0            36  \n",
              "3           0           0       0                0            76  \n",
              "4           0           0       0                0             0  "
            ],
            "text/html": [
              "\n",
              "  <div id=\"df-391149cb-eaad-402e-bf4a-9844f27bf6a3\" class=\"colab-df-container\">\n",
              "    <div>\n",
              "<style scoped>\n",
              "    .dataframe tbody tr th:only-of-type {\n",
              "        vertical-align: middle;\n",
              "    }\n",
              "\n",
              "    .dataframe tbody tr th {\n",
              "        vertical-align: top;\n",
              "    }\n",
              "\n",
              "    .dataframe thead th {\n",
              "        text-align: right;\n",
              "    }\n",
              "</style>\n",
              "<table border=\"1\" class=\"dataframe\">\n",
              "  <thead>\n",
              "    <tr style=\"text-align: right;\">\n",
              "      <th></th>\n",
              "      <th>property_type</th>\n",
              "      <th>society</th>\n",
              "      <th>sector</th>\n",
              "      <th>price_in_cr</th>\n",
              "      <th>price_per_sq.ft</th>\n",
              "      <th>total_area</th>\n",
              "      <th>areaWithType</th>\n",
              "      <th>bedrooms</th>\n",
              "      <th>bathrooms</th>\n",
              "      <th>balconies</th>\n",
              "      <th>floorNum</th>\n",
              "      <th>facing</th>\n",
              "      <th>agePossession</th>\n",
              "      <th>super_built_up_area</th>\n",
              "      <th>built_up_area</th>\n",
              "      <th>carpet_area</th>\n",
              "      <th>study_room</th>\n",
              "      <th>servant_room</th>\n",
              "      <th>store_room</th>\n",
              "      <th>pooja_room</th>\n",
              "      <th>others</th>\n",
              "      <th>furnishing_type</th>\n",
              "      <th>luxury_score</th>\n",
              "    </tr>\n",
              "  </thead>\n",
              "  <tbody>\n",
              "    <tr>\n",
              "      <th>0</th>\n",
              "      <td>flat</td>\n",
              "      <td>maa bhagwati residency</td>\n",
              "      <td>sector 3</td>\n",
              "      <td>0.45</td>\n",
              "      <td>5000.0</td>\n",
              "      <td>900.0</td>\n",
              "      <td>Carpet area: 900 (83.61 sq.m.)</td>\n",
              "      <td>2</td>\n",
              "      <td>2</td>\n",
              "      <td>1</td>\n",
              "      <td>4.0</td>\n",
              "      <td>West</td>\n",
              "      <td>Relatively New</td>\n",
              "      <td>NaN</td>\n",
              "      <td>NaN</td>\n",
              "      <td>900.0</td>\n",
              "      <td>0</td>\n",
              "      <td>0</td>\n",
              "      <td>0</td>\n",
              "      <td>0</td>\n",
              "      <td>0</td>\n",
              "      <td>0</td>\n",
              "      <td>28</td>\n",
              "    </tr>\n",
              "    <tr>\n",
              "      <th>1</th>\n",
              "      <td>flat</td>\n",
              "      <td>apna enclave</td>\n",
              "      <td>sector 3</td>\n",
              "      <td>0.50</td>\n",
              "      <td>7692.0</td>\n",
              "      <td>650.0</td>\n",
              "      <td>Carpet area: 650 (60.39 sq.m.)</td>\n",
              "      <td>2</td>\n",
              "      <td>2</td>\n",
              "      <td>1</td>\n",
              "      <td>1.0</td>\n",
              "      <td>West</td>\n",
              "      <td>Old Property</td>\n",
              "      <td>NaN</td>\n",
              "      <td>NaN</td>\n",
              "      <td>650.0</td>\n",
              "      <td>0</td>\n",
              "      <td>0</td>\n",
              "      <td>0</td>\n",
              "      <td>0</td>\n",
              "      <td>0</td>\n",
              "      <td>1</td>\n",
              "      <td>37</td>\n",
              "    </tr>\n",
              "    <tr>\n",
              "      <th>2</th>\n",
              "      <td>flat</td>\n",
              "      <td>tulsiani easy in homes</td>\n",
              "      <td>sector 35</td>\n",
              "      <td>0.40</td>\n",
              "      <td>6722.0</td>\n",
              "      <td>595.0</td>\n",
              "      <td>Carpet area: 595 (55.28 sq.m.)</td>\n",
              "      <td>2</td>\n",
              "      <td>2</td>\n",
              "      <td>3</td>\n",
              "      <td>12.0</td>\n",
              "      <td>NA</td>\n",
              "      <td>New Property</td>\n",
              "      <td>NaN</td>\n",
              "      <td>NaN</td>\n",
              "      <td>595.0</td>\n",
              "      <td>0</td>\n",
              "      <td>0</td>\n",
              "      <td>0</td>\n",
              "      <td>0</td>\n",
              "      <td>0</td>\n",
              "      <td>0</td>\n",
              "      <td>36</td>\n",
              "    </tr>\n",
              "    <tr>\n",
              "      <th>3</th>\n",
              "      <td>flat</td>\n",
              "      <td>smart world orchard</td>\n",
              "      <td>sector 61</td>\n",
              "      <td>1.47</td>\n",
              "      <td>12250.0</td>\n",
              "      <td>1200.0</td>\n",
              "      <td>Carpet area: 1200 (111.48 sq.m.)</td>\n",
              "      <td>2</td>\n",
              "      <td>2</td>\n",
              "      <td>2</td>\n",
              "      <td>2.0</td>\n",
              "      <td>NA</td>\n",
              "      <td>Undefined</td>\n",
              "      <td>NaN</td>\n",
              "      <td>NaN</td>\n",
              "      <td>1200.0</td>\n",
              "      <td>1</td>\n",
              "      <td>0</td>\n",
              "      <td>0</td>\n",
              "      <td>0</td>\n",
              "      <td>0</td>\n",
              "      <td>0</td>\n",
              "      <td>76</td>\n",
              "    </tr>\n",
              "    <tr>\n",
              "      <th>4</th>\n",
              "      <td>flat</td>\n",
              "      <td>parkwood westend</td>\n",
              "      <td>sector 92</td>\n",
              "      <td>0.70</td>\n",
              "      <td>5204.0</td>\n",
              "      <td>1345.0</td>\n",
              "      <td>Super Built up area 1345(124.95 sq.m.)</td>\n",
              "      <td>2</td>\n",
              "      <td>2</td>\n",
              "      <td>3</td>\n",
              "      <td>5.0</td>\n",
              "      <td>NA</td>\n",
              "      <td>Under Construction</td>\n",
              "      <td>1345.0</td>\n",
              "      <td>NaN</td>\n",
              "      <td>NaN</td>\n",
              "      <td>1</td>\n",
              "      <td>0</td>\n",
              "      <td>0</td>\n",
              "      <td>0</td>\n",
              "      <td>0</td>\n",
              "      <td>0</td>\n",
              "      <td>0</td>\n",
              "    </tr>\n",
              "  </tbody>\n",
              "</table>\n",
              "</div>\n",
              "    <div class=\"colab-df-buttons\">\n",
              "\n",
              "  <div class=\"colab-df-container\">\n",
              "    <button class=\"colab-df-convert\" onclick=\"convertToInteractive('df-391149cb-eaad-402e-bf4a-9844f27bf6a3')\"\n",
              "            title=\"Convert this dataframe to an interactive table.\"\n",
              "            style=\"display:none;\">\n",
              "\n",
              "  <svg xmlns=\"http://www.w3.org/2000/svg\" height=\"24px\" viewBox=\"0 -960 960 960\">\n",
              "    <path d=\"M120-120v-720h720v720H120Zm60-500h600v-160H180v160Zm220 220h160v-160H400v160Zm0 220h160v-160H400v160ZM180-400h160v-160H180v160Zm440 0h160v-160H620v160ZM180-180h160v-160H180v160Zm440 0h160v-160H620v160Z\"/>\n",
              "  </svg>\n",
              "    </button>\n",
              "\n",
              "  <style>\n",
              "    .colab-df-container {\n",
              "      display:flex;\n",
              "      gap: 12px;\n",
              "    }\n",
              "\n",
              "    .colab-df-convert {\n",
              "      background-color: #E8F0FE;\n",
              "      border: none;\n",
              "      border-radius: 50%;\n",
              "      cursor: pointer;\n",
              "      display: none;\n",
              "      fill: #1967D2;\n",
              "      height: 32px;\n",
              "      padding: 0 0 0 0;\n",
              "      width: 32px;\n",
              "    }\n",
              "\n",
              "    .colab-df-convert:hover {\n",
              "      background-color: #E2EBFA;\n",
              "      box-shadow: 0px 1px 2px rgba(60, 64, 67, 0.3), 0px 1px 3px 1px rgba(60, 64, 67, 0.15);\n",
              "      fill: #174EA6;\n",
              "    }\n",
              "\n",
              "    .colab-df-buttons div {\n",
              "      margin-bottom: 4px;\n",
              "    }\n",
              "\n",
              "    [theme=dark] .colab-df-convert {\n",
              "      background-color: #3B4455;\n",
              "      fill: #D2E3FC;\n",
              "    }\n",
              "\n",
              "    [theme=dark] .colab-df-convert:hover {\n",
              "      background-color: #434B5C;\n",
              "      box-shadow: 0px 1px 3px 1px rgba(0, 0, 0, 0.15);\n",
              "      filter: drop-shadow(0px 1px 2px rgba(0, 0, 0, 0.3));\n",
              "      fill: #FFFFFF;\n",
              "    }\n",
              "  </style>\n",
              "\n",
              "    <script>\n",
              "      const buttonEl =\n",
              "        document.querySelector('#df-391149cb-eaad-402e-bf4a-9844f27bf6a3 button.colab-df-convert');\n",
              "      buttonEl.style.display =\n",
              "        google.colab.kernel.accessAllowed ? 'block' : 'none';\n",
              "\n",
              "      async function convertToInteractive(key) {\n",
              "        const element = document.querySelector('#df-391149cb-eaad-402e-bf4a-9844f27bf6a3');\n",
              "        const dataTable =\n",
              "          await google.colab.kernel.invokeFunction('convertToInteractive',\n",
              "                                                    [key], {});\n",
              "        if (!dataTable) return;\n",
              "\n",
              "        const docLinkHtml = 'Like what you see? Visit the ' +\n",
              "          '<a target=\"_blank\" href=https://colab.research.google.com/notebooks/data_table.ipynb>data table notebook</a>'\n",
              "          + ' to learn more about interactive tables.';\n",
              "        element.innerHTML = '';\n",
              "        dataTable['output_type'] = 'display_data';\n",
              "        await google.colab.output.renderOutput(dataTable, element);\n",
              "        const docLink = document.createElement('div');\n",
              "        docLink.innerHTML = docLinkHtml;\n",
              "        element.appendChild(docLink);\n",
              "      }\n",
              "    </script>\n",
              "  </div>\n",
              "\n",
              "\n",
              "<div id=\"df-9cae626c-d45b-4997-ae6e-9087c35b5d8a\">\n",
              "  <button class=\"colab-df-quickchart\" onclick=\"quickchart('df-9cae626c-d45b-4997-ae6e-9087c35b5d8a')\"\n",
              "            title=\"Suggest charts.\"\n",
              "            style=\"display:none;\">\n",
              "\n",
              "<svg xmlns=\"http://www.w3.org/2000/svg\" height=\"24px\"viewBox=\"0 0 24 24\"\n",
              "     width=\"24px\">\n",
              "    <g>\n",
              "        <path d=\"M19 3H5c-1.1 0-2 .9-2 2v14c0 1.1.9 2 2 2h14c1.1 0 2-.9 2-2V5c0-1.1-.9-2-2-2zM9 17H7v-7h2v7zm4 0h-2V7h2v10zm4 0h-2v-4h2v4z\"/>\n",
              "    </g>\n",
              "</svg>\n",
              "  </button>\n",
              "\n",
              "<style>\n",
              "  .colab-df-quickchart {\n",
              "      --bg-color: #E8F0FE;\n",
              "      --fill-color: #1967D2;\n",
              "      --hover-bg-color: #E2EBFA;\n",
              "      --hover-fill-color: #174EA6;\n",
              "      --disabled-fill-color: #AAA;\n",
              "      --disabled-bg-color: #DDD;\n",
              "  }\n",
              "\n",
              "  [theme=dark] .colab-df-quickchart {\n",
              "      --bg-color: #3B4455;\n",
              "      --fill-color: #D2E3FC;\n",
              "      --hover-bg-color: #434B5C;\n",
              "      --hover-fill-color: #FFFFFF;\n",
              "      --disabled-bg-color: #3B4455;\n",
              "      --disabled-fill-color: #666;\n",
              "  }\n",
              "\n",
              "  .colab-df-quickchart {\n",
              "    background-color: var(--bg-color);\n",
              "    border: none;\n",
              "    border-radius: 50%;\n",
              "    cursor: pointer;\n",
              "    display: none;\n",
              "    fill: var(--fill-color);\n",
              "    height: 32px;\n",
              "    padding: 0;\n",
              "    width: 32px;\n",
              "  }\n",
              "\n",
              "  .colab-df-quickchart:hover {\n",
              "    background-color: var(--hover-bg-color);\n",
              "    box-shadow: 0 1px 2px rgba(60, 64, 67, 0.3), 0 1px 3px 1px rgba(60, 64, 67, 0.15);\n",
              "    fill: var(--button-hover-fill-color);\n",
              "  }\n",
              "\n",
              "  .colab-df-quickchart-complete:disabled,\n",
              "  .colab-df-quickchart-complete:disabled:hover {\n",
              "    background-color: var(--disabled-bg-color);\n",
              "    fill: var(--disabled-fill-color);\n",
              "    box-shadow: none;\n",
              "  }\n",
              "\n",
              "  .colab-df-spinner {\n",
              "    border: 2px solid var(--fill-color);\n",
              "    border-color: transparent;\n",
              "    border-bottom-color: var(--fill-color);\n",
              "    animation:\n",
              "      spin 1s steps(1) infinite;\n",
              "  }\n",
              "\n",
              "  @keyframes spin {\n",
              "    0% {\n",
              "      border-color: transparent;\n",
              "      border-bottom-color: var(--fill-color);\n",
              "      border-left-color: var(--fill-color);\n",
              "    }\n",
              "    20% {\n",
              "      border-color: transparent;\n",
              "      border-left-color: var(--fill-color);\n",
              "      border-top-color: var(--fill-color);\n",
              "    }\n",
              "    30% {\n",
              "      border-color: transparent;\n",
              "      border-left-color: var(--fill-color);\n",
              "      border-top-color: var(--fill-color);\n",
              "      border-right-color: var(--fill-color);\n",
              "    }\n",
              "    40% {\n",
              "      border-color: transparent;\n",
              "      border-right-color: var(--fill-color);\n",
              "      border-top-color: var(--fill-color);\n",
              "    }\n",
              "    60% {\n",
              "      border-color: transparent;\n",
              "      border-right-color: var(--fill-color);\n",
              "    }\n",
              "    80% {\n",
              "      border-color: transparent;\n",
              "      border-right-color: var(--fill-color);\n",
              "      border-bottom-color: var(--fill-color);\n",
              "    }\n",
              "    90% {\n",
              "      border-color: transparent;\n",
              "      border-bottom-color: var(--fill-color);\n",
              "    }\n",
              "  }\n",
              "</style>\n",
              "\n",
              "  <script>\n",
              "    async function quickchart(key) {\n",
              "      const quickchartButtonEl =\n",
              "        document.querySelector('#' + key + ' button');\n",
              "      quickchartButtonEl.disabled = true;  // To prevent multiple clicks.\n",
              "      quickchartButtonEl.classList.add('colab-df-spinner');\n",
              "      try {\n",
              "        const charts = await google.colab.kernel.invokeFunction(\n",
              "            'suggestCharts', [key], {});\n",
              "      } catch (error) {\n",
              "        console.error('Error during call to suggestCharts:', error);\n",
              "      }\n",
              "      quickchartButtonEl.classList.remove('colab-df-spinner');\n",
              "      quickchartButtonEl.classList.add('colab-df-quickchart-complete');\n",
              "    }\n",
              "    (() => {\n",
              "      let quickchartButtonEl =\n",
              "        document.querySelector('#df-9cae626c-d45b-4997-ae6e-9087c35b5d8a button');\n",
              "      quickchartButtonEl.style.display =\n",
              "        google.colab.kernel.accessAllowed ? 'block' : 'none';\n",
              "    })();\n",
              "  </script>\n",
              "</div>\n",
              "    </div>\n",
              "  </div>\n"
            ]
          },
          "metadata": {},
          "execution_count": 86
        }
      ]
    },
    {
      "cell_type": "code",
      "source": [
        "df.shape"
      ],
      "metadata": {
        "colab": {
          "base_uri": "https://localhost:8080/"
        },
        "id": "VlNuCEXpY4G1",
        "outputId": "29300073-c654-4d50-98ce-8d82edf84427"
      },
      "execution_count": 87,
      "outputs": [
        {
          "output_type": "execute_result",
          "data": {
            "text/plain": [
              "(3809, 23)"
            ]
          },
          "metadata": {},
          "execution_count": 87
        }
      ]
    },
    {
      "cell_type": "code",
      "source": [
        "df.to_csv('eda_univariate_performed.csv',index=False)"
      ],
      "metadata": {
        "id": "_5R5snwv9psN"
      },
      "execution_count": 88,
      "outputs": []
    }
  ]
}